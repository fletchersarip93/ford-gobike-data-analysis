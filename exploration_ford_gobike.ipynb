{
 "cells": [
  {
   "cell_type": "markdown",
   "metadata": {},
   "source": [
    "# Ford GoBike Data Analysis\n",
    "## by Fletcher Sarip\n",
    "\n",
    "## Preliminary Wrangling\n",
    "\n",
    "> Briefly introduce your dataset here.\n",
    "\n",
    "The data contains bike usage of Ford GoBike for the month February 2019."
   ]
  },
  {
   "cell_type": "code",
   "execution_count": 1,
   "metadata": {},
   "outputs": [],
   "source": [
    "# import all packages and set plots to be embedded inline\n",
    "import numpy as np\n",
    "import pandas as pd\n",
    "import matplotlib.pyplot as plt\n",
    "import seaborn as sb\n",
    "\n",
    "%matplotlib inline"
   ]
  },
  {
   "cell_type": "markdown",
   "metadata": {},
   "source": [
    "> Load in your dataset and describe its properties through the questions below.\n",
    "Try and motivate your exploration goals through this section."
   ]
  },
  {
   "cell_type": "markdown",
   "metadata": {},
   "source": [
    "### Import Data and Column Data Type Conversions\n",
    "Below the data is imported with data type conversion for each column. Note that it is accepted for member birth year to be floating point number because there is NaN in the column."
   ]
  },
  {
   "cell_type": "code",
   "execution_count": 2,
   "metadata": {},
   "outputs": [],
   "source": [
    "df = pd.read_csv('data/201902-fordgobike-tripdata.csv',\n",
    "                 parse_dates=['start_time', 'end_time'],\n",
    "                 dtype={'start_station_id': 'str',\n",
    "                        'end_station_id': 'str',\n",
    "                        'bike_id': 'str',\n",
    "                        'user_type': 'category',\n",
    "                        'member_birth_year': 'Int16',\n",
    "                        'member_gender': 'category'})\n",
    "df.duration_sec = pd.to_timedelta(df.duration_sec, unit='sec')\n",
    "df.rename(columns={'duration_sec': 'duration'}, inplace=True)\n",
    "\n",
    "assert df.iloc[0].start_time == pd.to_datetime('2019-02-28 17:32:10.1450') # consistency check"
   ]
  },
  {
   "cell_type": "markdown",
   "metadata": {},
   "source": [
    "For the column bike_share_for_all_trip, it is ensured below that the values only consist of 'Yes' or 'No', so they'll be converted to boolean, where 'Yes' will be true and 'No' will be false."
   ]
  },
  {
   "cell_type": "code",
   "execution_count": 3,
   "metadata": {},
   "outputs": [
    {
     "name": "stdout",
     "output_type": "stream",
     "text": [
      "Unique values of bike_share_for_all_trip column: ['No' 'Yes']\n"
     ]
    }
   ],
   "source": [
    "print(f'Unique values of bike_share_for_all_trip column: {df.bike_share_for_all_trip.unique()}')"
   ]
  },
  {
   "cell_type": "code",
   "execution_count": 4,
   "metadata": {},
   "outputs": [],
   "source": [
    "assert df.bike_share_for_all_trip.unique().size == 2 # for safety before conversion\n",
    "df.bike_share_for_all_trip = df.bike_share_for_all_trip.apply(lambda x: x == 'Yes')\n",
    "assert df.bike_share_for_all_trip.sum() == 17359 # for consistency checking"
   ]
  },
  {
   "cell_type": "markdown",
   "metadata": {},
   "source": [
    "Data type conversion is now done. Below the dataframe previews are printed."
   ]
  },
  {
   "cell_type": "code",
   "execution_count": 5,
   "metadata": {},
   "outputs": [
    {
     "data": {
      "text/html": [
       "<div>\n",
       "<style scoped>\n",
       "    .dataframe tbody tr th:only-of-type {\n",
       "        vertical-align: middle;\n",
       "    }\n",
       "\n",
       "    .dataframe tbody tr th {\n",
       "        vertical-align: top;\n",
       "    }\n",
       "\n",
       "    .dataframe thead th {\n",
       "        text-align: right;\n",
       "    }\n",
       "</style>\n",
       "<table border=\"1\" class=\"dataframe\">\n",
       "  <thead>\n",
       "    <tr style=\"text-align: right;\">\n",
       "      <th></th>\n",
       "      <th>duration</th>\n",
       "      <th>start_time</th>\n",
       "      <th>end_time</th>\n",
       "      <th>start_station_id</th>\n",
       "      <th>start_station_name</th>\n",
       "      <th>start_station_latitude</th>\n",
       "      <th>start_station_longitude</th>\n",
       "      <th>end_station_id</th>\n",
       "      <th>end_station_name</th>\n",
       "      <th>end_station_latitude</th>\n",
       "      <th>end_station_longitude</th>\n",
       "      <th>bike_id</th>\n",
       "      <th>user_type</th>\n",
       "      <th>member_birth_year</th>\n",
       "      <th>member_gender</th>\n",
       "      <th>bike_share_for_all_trip</th>\n",
       "    </tr>\n",
       "  </thead>\n",
       "  <tbody>\n",
       "    <tr>\n",
       "      <th>0</th>\n",
       "      <td>0 days 14:29:45</td>\n",
       "      <td>2019-02-28 17:32:10.145</td>\n",
       "      <td>2019-03-01 08:01:55.975</td>\n",
       "      <td>21</td>\n",
       "      <td>Montgomery St BART Station (Market St at 2nd St)</td>\n",
       "      <td>37.789625</td>\n",
       "      <td>-122.400811</td>\n",
       "      <td>13</td>\n",
       "      <td>Commercial St at Montgomery St</td>\n",
       "      <td>37.794231</td>\n",
       "      <td>-122.402923</td>\n",
       "      <td>4902</td>\n",
       "      <td>Customer</td>\n",
       "      <td>1984</td>\n",
       "      <td>Male</td>\n",
       "      <td>False</td>\n",
       "    </tr>\n",
       "    <tr>\n",
       "      <th>1</th>\n",
       "      <td>0 days 11:48:41</td>\n",
       "      <td>2019-02-28 18:53:21.789</td>\n",
       "      <td>2019-03-01 06:42:03.056</td>\n",
       "      <td>23</td>\n",
       "      <td>The Embarcadero at Steuart St</td>\n",
       "      <td>37.791464</td>\n",
       "      <td>-122.391034</td>\n",
       "      <td>81</td>\n",
       "      <td>Berry St at 4th St</td>\n",
       "      <td>37.775880</td>\n",
       "      <td>-122.393170</td>\n",
       "      <td>2535</td>\n",
       "      <td>Customer</td>\n",
       "      <td>&lt;NA&gt;</td>\n",
       "      <td>NaN</td>\n",
       "      <td>False</td>\n",
       "    </tr>\n",
       "    <tr>\n",
       "      <th>2</th>\n",
       "      <td>0 days 17:10:54</td>\n",
       "      <td>2019-02-28 12:13:13.218</td>\n",
       "      <td>2019-03-01 05:24:08.146</td>\n",
       "      <td>86</td>\n",
       "      <td>Market St at Dolores St</td>\n",
       "      <td>37.769305</td>\n",
       "      <td>-122.426826</td>\n",
       "      <td>3</td>\n",
       "      <td>Powell St BART Station (Market St at 4th St)</td>\n",
       "      <td>37.786375</td>\n",
       "      <td>-122.404904</td>\n",
       "      <td>5905</td>\n",
       "      <td>Customer</td>\n",
       "      <td>1972</td>\n",
       "      <td>Male</td>\n",
       "      <td>False</td>\n",
       "    </tr>\n",
       "    <tr>\n",
       "      <th>3</th>\n",
       "      <td>0 days 10:08:10</td>\n",
       "      <td>2019-02-28 17:54:26.010</td>\n",
       "      <td>2019-03-01 04:02:36.842</td>\n",
       "      <td>375</td>\n",
       "      <td>Grove St at Masonic Ave</td>\n",
       "      <td>37.774836</td>\n",
       "      <td>-122.446546</td>\n",
       "      <td>70</td>\n",
       "      <td>Central Ave at Fell St</td>\n",
       "      <td>37.773311</td>\n",
       "      <td>-122.444293</td>\n",
       "      <td>6638</td>\n",
       "      <td>Subscriber</td>\n",
       "      <td>1989</td>\n",
       "      <td>Other</td>\n",
       "      <td>False</td>\n",
       "    </tr>\n",
       "    <tr>\n",
       "      <th>4</th>\n",
       "      <td>0 days 00:26:25</td>\n",
       "      <td>2019-02-28 23:54:18.549</td>\n",
       "      <td>2019-03-01 00:20:44.074</td>\n",
       "      <td>7</td>\n",
       "      <td>Frank H Ogawa Plaza</td>\n",
       "      <td>37.804562</td>\n",
       "      <td>-122.271738</td>\n",
       "      <td>222</td>\n",
       "      <td>10th Ave at E 15th St</td>\n",
       "      <td>37.792714</td>\n",
       "      <td>-122.248780</td>\n",
       "      <td>4898</td>\n",
       "      <td>Subscriber</td>\n",
       "      <td>1974</td>\n",
       "      <td>Male</td>\n",
       "      <td>True</td>\n",
       "    </tr>\n",
       "  </tbody>\n",
       "</table>\n",
       "</div>"
      ],
      "text/plain": [
       "         duration              start_time                end_time  \\\n",
       "0 0 days 14:29:45 2019-02-28 17:32:10.145 2019-03-01 08:01:55.975   \n",
       "1 0 days 11:48:41 2019-02-28 18:53:21.789 2019-03-01 06:42:03.056   \n",
       "2 0 days 17:10:54 2019-02-28 12:13:13.218 2019-03-01 05:24:08.146   \n",
       "3 0 days 10:08:10 2019-02-28 17:54:26.010 2019-03-01 04:02:36.842   \n",
       "4 0 days 00:26:25 2019-02-28 23:54:18.549 2019-03-01 00:20:44.074   \n",
       "\n",
       "  start_station_id                                start_station_name  \\\n",
       "0               21  Montgomery St BART Station (Market St at 2nd St)   \n",
       "1               23                     The Embarcadero at Steuart St   \n",
       "2               86                           Market St at Dolores St   \n",
       "3              375                           Grove St at Masonic Ave   \n",
       "4                7                               Frank H Ogawa Plaza   \n",
       "\n",
       "   start_station_latitude  start_station_longitude end_station_id  \\\n",
       "0               37.789625              -122.400811             13   \n",
       "1               37.791464              -122.391034             81   \n",
       "2               37.769305              -122.426826              3   \n",
       "3               37.774836              -122.446546             70   \n",
       "4               37.804562              -122.271738            222   \n",
       "\n",
       "                               end_station_name  end_station_latitude  \\\n",
       "0                Commercial St at Montgomery St             37.794231   \n",
       "1                            Berry St at 4th St             37.775880   \n",
       "2  Powell St BART Station (Market St at 4th St)             37.786375   \n",
       "3                        Central Ave at Fell St             37.773311   \n",
       "4                         10th Ave at E 15th St             37.792714   \n",
       "\n",
       "   end_station_longitude bike_id   user_type  member_birth_year member_gender  \\\n",
       "0            -122.402923    4902    Customer               1984          Male   \n",
       "1            -122.393170    2535    Customer               <NA>           NaN   \n",
       "2            -122.404904    5905    Customer               1972          Male   \n",
       "3            -122.444293    6638  Subscriber               1989         Other   \n",
       "4            -122.248780    4898  Subscriber               1974          Male   \n",
       "\n",
       "   bike_share_for_all_trip  \n",
       "0                    False  \n",
       "1                    False  \n",
       "2                    False  \n",
       "3                    False  \n",
       "4                     True  "
      ]
     },
     "execution_count": 5,
     "metadata": {},
     "output_type": "execute_result"
    }
   ],
   "source": [
    "df.head()"
   ]
  },
  {
   "cell_type": "code",
   "execution_count": 6,
   "metadata": {},
   "outputs": [
    {
     "name": "stdout",
     "output_type": "stream",
     "text": [
      "<class 'pandas.core.frame.DataFrame'>\n",
      "RangeIndex: 183412 entries, 0 to 183411\n",
      "Data columns (total 16 columns):\n",
      " #   Column                   Non-Null Count   Dtype          \n",
      "---  ------                   --------------   -----          \n",
      " 0   duration                 183412 non-null  timedelta64[ns]\n",
      " 1   start_time               183412 non-null  datetime64[ns] \n",
      " 2   end_time                 183412 non-null  datetime64[ns] \n",
      " 3   start_station_id         183215 non-null  object         \n",
      " 4   start_station_name       183215 non-null  object         \n",
      " 5   start_station_latitude   183412 non-null  float64        \n",
      " 6   start_station_longitude  183412 non-null  float64        \n",
      " 7   end_station_id           183215 non-null  object         \n",
      " 8   end_station_name         183215 non-null  object         \n",
      " 9   end_station_latitude     183412 non-null  float64        \n",
      " 10  end_station_longitude    183412 non-null  float64        \n",
      " 11  bike_id                  183412 non-null  object         \n",
      " 12  user_type                183412 non-null  category       \n",
      " 13  member_birth_year        175147 non-null  Int16          \n",
      " 14  member_gender            175147 non-null  category       \n",
      " 15  bike_share_for_all_trip  183412 non-null  bool           \n",
      "dtypes: Int16(1), bool(1), category(2), datetime64[ns](2), float64(4), object(5), timedelta64[ns](1)\n",
      "memory usage: 17.8+ MB\n"
     ]
    }
   ],
   "source": [
    "df.info()"
   ]
  },
  {
   "cell_type": "code",
   "execution_count": 7,
   "metadata": {},
   "outputs": [
    {
     "data": {
      "text/html": [
       "<div>\n",
       "<style scoped>\n",
       "    .dataframe tbody tr th:only-of-type {\n",
       "        vertical-align: middle;\n",
       "    }\n",
       "\n",
       "    .dataframe tbody tr th {\n",
       "        vertical-align: top;\n",
       "    }\n",
       "\n",
       "    .dataframe thead th {\n",
       "        text-align: right;\n",
       "    }\n",
       "</style>\n",
       "<table border=\"1\" class=\"dataframe\">\n",
       "  <thead>\n",
       "    <tr style=\"text-align: right;\">\n",
       "      <th></th>\n",
       "      <th>duration</th>\n",
       "      <th>start_station_latitude</th>\n",
       "      <th>start_station_longitude</th>\n",
       "      <th>end_station_latitude</th>\n",
       "      <th>end_station_longitude</th>\n",
       "      <th>member_birth_year</th>\n",
       "    </tr>\n",
       "  </thead>\n",
       "  <tbody>\n",
       "    <tr>\n",
       "      <th>count</th>\n",
       "      <td>183412</td>\n",
       "      <td>183412.000000</td>\n",
       "      <td>183412.000000</td>\n",
       "      <td>183412.000000</td>\n",
       "      <td>183412.000000</td>\n",
       "      <td>175147.000000</td>\n",
       "    </tr>\n",
       "    <tr>\n",
       "      <th>mean</th>\n",
       "      <td>0 days 00:12:06.078435434</td>\n",
       "      <td>37.771223</td>\n",
       "      <td>-122.352664</td>\n",
       "      <td>37.771427</td>\n",
       "      <td>-122.352250</td>\n",
       "      <td>1984.806437</td>\n",
       "    </tr>\n",
       "    <tr>\n",
       "      <th>std</th>\n",
       "      <td>0 days 00:29:54.389780016</td>\n",
       "      <td>0.099581</td>\n",
       "      <td>0.117097</td>\n",
       "      <td>0.099490</td>\n",
       "      <td>0.116673</td>\n",
       "      <td>10.116689</td>\n",
       "    </tr>\n",
       "    <tr>\n",
       "      <th>min</th>\n",
       "      <td>0 days 00:01:01</td>\n",
       "      <td>37.317298</td>\n",
       "      <td>-122.453704</td>\n",
       "      <td>37.317298</td>\n",
       "      <td>-122.453704</td>\n",
       "      <td>1878.000000</td>\n",
       "    </tr>\n",
       "    <tr>\n",
       "      <th>25%</th>\n",
       "      <td>0 days 00:05:25</td>\n",
       "      <td>37.770083</td>\n",
       "      <td>-122.412408</td>\n",
       "      <td>37.770407</td>\n",
       "      <td>-122.411726</td>\n",
       "      <td>1980.000000</td>\n",
       "    </tr>\n",
       "    <tr>\n",
       "      <th>50%</th>\n",
       "      <td>0 days 00:08:34</td>\n",
       "      <td>37.780760</td>\n",
       "      <td>-122.398285</td>\n",
       "      <td>37.781010</td>\n",
       "      <td>-122.398279</td>\n",
       "      <td>1987.000000</td>\n",
       "    </tr>\n",
       "    <tr>\n",
       "      <th>75%</th>\n",
       "      <td>0 days 00:13:16</td>\n",
       "      <td>37.797280</td>\n",
       "      <td>-122.286533</td>\n",
       "      <td>37.797320</td>\n",
       "      <td>-122.288045</td>\n",
       "      <td>1992.000000</td>\n",
       "    </tr>\n",
       "    <tr>\n",
       "      <th>max</th>\n",
       "      <td>0 days 23:44:04</td>\n",
       "      <td>37.880222</td>\n",
       "      <td>-121.874119</td>\n",
       "      <td>37.880222</td>\n",
       "      <td>-121.874119</td>\n",
       "      <td>2001.000000</td>\n",
       "    </tr>\n",
       "  </tbody>\n",
       "</table>\n",
       "</div>"
      ],
      "text/plain": [
       "                        duration  start_station_latitude  \\\n",
       "count                     183412           183412.000000   \n",
       "mean   0 days 00:12:06.078435434               37.771223   \n",
       "std    0 days 00:29:54.389780016                0.099581   \n",
       "min              0 days 00:01:01               37.317298   \n",
       "25%              0 days 00:05:25               37.770083   \n",
       "50%              0 days 00:08:34               37.780760   \n",
       "75%              0 days 00:13:16               37.797280   \n",
       "max              0 days 23:44:04               37.880222   \n",
       "\n",
       "       start_station_longitude  end_station_latitude  end_station_longitude  \\\n",
       "count            183412.000000         183412.000000          183412.000000   \n",
       "mean               -122.352664             37.771427            -122.352250   \n",
       "std                   0.117097              0.099490               0.116673   \n",
       "min                -122.453704             37.317298            -122.453704   \n",
       "25%                -122.412408             37.770407            -122.411726   \n",
       "50%                -122.398285             37.781010            -122.398279   \n",
       "75%                -122.286533             37.797320            -122.288045   \n",
       "max                -121.874119             37.880222            -121.874119   \n",
       "\n",
       "       member_birth_year  \n",
       "count      175147.000000  \n",
       "mean         1984.806437  \n",
       "std            10.116689  \n",
       "min          1878.000000  \n",
       "25%          1980.000000  \n",
       "50%          1987.000000  \n",
       "75%          1992.000000  \n",
       "max          2001.000000  "
      ]
     },
     "execution_count": 7,
     "metadata": {},
     "output_type": "execute_result"
    }
   ],
   "source": [
    "df.describe()"
   ]
  },
  {
   "cell_type": "markdown",
   "metadata": {},
   "source": [
    "### Data Quality Assessment\n",
    "#### Null Start and End Station\n",
    "##### Assessment\n",
    "Checking rows that have null values for start and end station ID."
   ]
  },
  {
   "cell_type": "code",
   "execution_count": 8,
   "metadata": {},
   "outputs": [
    {
     "data": {
      "text/html": [
       "<div>\n",
       "<style scoped>\n",
       "    .dataframe tbody tr th:only-of-type {\n",
       "        vertical-align: middle;\n",
       "    }\n",
       "\n",
       "    .dataframe tbody tr th {\n",
       "        vertical-align: top;\n",
       "    }\n",
       "\n",
       "    .dataframe thead th {\n",
       "        text-align: right;\n",
       "    }\n",
       "</style>\n",
       "<table border=\"1\" class=\"dataframe\">\n",
       "  <thead>\n",
       "    <tr style=\"text-align: right;\">\n",
       "      <th></th>\n",
       "      <th>duration</th>\n",
       "      <th>start_time</th>\n",
       "      <th>end_time</th>\n",
       "      <th>start_station_id</th>\n",
       "      <th>start_station_name</th>\n",
       "      <th>start_station_latitude</th>\n",
       "      <th>start_station_longitude</th>\n",
       "      <th>end_station_id</th>\n",
       "      <th>end_station_name</th>\n",
       "      <th>end_station_latitude</th>\n",
       "      <th>end_station_longitude</th>\n",
       "      <th>bike_id</th>\n",
       "      <th>user_type</th>\n",
       "      <th>member_birth_year</th>\n",
       "      <th>member_gender</th>\n",
       "      <th>bike_share_for_all_trip</th>\n",
       "    </tr>\n",
       "  </thead>\n",
       "  <tbody>\n",
       "    <tr>\n",
       "      <th>475</th>\n",
       "      <td>0 days 00:28:29</td>\n",
       "      <td>2019-02-28 20:55:53.932</td>\n",
       "      <td>2019-02-28 21:24:23.738</td>\n",
       "      <td>NaN</td>\n",
       "      <td>NaN</td>\n",
       "      <td>37.40</td>\n",
       "      <td>-121.94</td>\n",
       "      <td>NaN</td>\n",
       "      <td>NaN</td>\n",
       "      <td>37.40</td>\n",
       "      <td>-121.93</td>\n",
       "      <td>4211</td>\n",
       "      <td>Customer</td>\n",
       "      <td>1991</td>\n",
       "      <td>Female</td>\n",
       "      <td>False</td>\n",
       "    </tr>\n",
       "    <tr>\n",
       "      <th>1733</th>\n",
       "      <td>0 days 00:21:12</td>\n",
       "      <td>2019-02-28 18:32:34.273</td>\n",
       "      <td>2019-02-28 18:53:46.727</td>\n",
       "      <td>NaN</td>\n",
       "      <td>NaN</td>\n",
       "      <td>37.40</td>\n",
       "      <td>-121.94</td>\n",
       "      <td>NaN</td>\n",
       "      <td>NaN</td>\n",
       "      <td>37.41</td>\n",
       "      <td>-121.96</td>\n",
       "      <td>4174</td>\n",
       "      <td>Subscriber</td>\n",
       "      <td>1980</td>\n",
       "      <td>Male</td>\n",
       "      <td>False</td>\n",
       "    </tr>\n",
       "    <tr>\n",
       "      <th>3625</th>\n",
       "      <td>0 days 00:02:22</td>\n",
       "      <td>2019-02-28 17:10:46.529</td>\n",
       "      <td>2019-02-28 17:13:09.431</td>\n",
       "      <td>NaN</td>\n",
       "      <td>NaN</td>\n",
       "      <td>37.41</td>\n",
       "      <td>-121.95</td>\n",
       "      <td>NaN</td>\n",
       "      <td>NaN</td>\n",
       "      <td>37.41</td>\n",
       "      <td>-121.96</td>\n",
       "      <td>4283</td>\n",
       "      <td>Subscriber</td>\n",
       "      <td>1988</td>\n",
       "      <td>Male</td>\n",
       "      <td>False</td>\n",
       "    </tr>\n",
       "    <tr>\n",
       "      <th>4070</th>\n",
       "      <td>0 days 00:09:45</td>\n",
       "      <td>2019-02-28 16:28:45.934</td>\n",
       "      <td>2019-02-28 16:38:31.332</td>\n",
       "      <td>NaN</td>\n",
       "      <td>NaN</td>\n",
       "      <td>37.39</td>\n",
       "      <td>-121.93</td>\n",
       "      <td>NaN</td>\n",
       "      <td>NaN</td>\n",
       "      <td>37.40</td>\n",
       "      <td>-121.92</td>\n",
       "      <td>4089</td>\n",
       "      <td>Subscriber</td>\n",
       "      <td>1984</td>\n",
       "      <td>Male</td>\n",
       "      <td>True</td>\n",
       "    </tr>\n",
       "    <tr>\n",
       "      <th>5654</th>\n",
       "      <td>0 days 00:08:29</td>\n",
       "      <td>2019-02-28 12:30:17.131</td>\n",
       "      <td>2019-02-28 12:38:46.329</td>\n",
       "      <td>NaN</td>\n",
       "      <td>NaN</td>\n",
       "      <td>37.40</td>\n",
       "      <td>-121.92</td>\n",
       "      <td>NaN</td>\n",
       "      <td>NaN</td>\n",
       "      <td>37.39</td>\n",
       "      <td>-121.93</td>\n",
       "      <td>4089</td>\n",
       "      <td>Subscriber</td>\n",
       "      <td>1984</td>\n",
       "      <td>Male</td>\n",
       "      <td>True</td>\n",
       "    </tr>\n",
       "    <tr>\n",
       "      <th>...</th>\n",
       "      <td>...</td>\n",
       "      <td>...</td>\n",
       "      <td>...</td>\n",
       "      <td>...</td>\n",
       "      <td>...</td>\n",
       "      <td>...</td>\n",
       "      <td>...</td>\n",
       "      <td>...</td>\n",
       "      <td>...</td>\n",
       "      <td>...</td>\n",
       "      <td>...</td>\n",
       "      <td>...</td>\n",
       "      <td>...</td>\n",
       "      <td>...</td>\n",
       "      <td>...</td>\n",
       "      <td>...</td>\n",
       "    </tr>\n",
       "    <tr>\n",
       "      <th>176154</th>\n",
       "      <td>0 days 00:24:07</td>\n",
       "      <td>2019-02-02 12:03:04.544</td>\n",
       "      <td>2019-02-02 12:27:12.267</td>\n",
       "      <td>NaN</td>\n",
       "      <td>NaN</td>\n",
       "      <td>37.40</td>\n",
       "      <td>-121.93</td>\n",
       "      <td>NaN</td>\n",
       "      <td>NaN</td>\n",
       "      <td>37.40</td>\n",
       "      <td>-121.93</td>\n",
       "      <td>4249</td>\n",
       "      <td>Customer</td>\n",
       "      <td>1984</td>\n",
       "      <td>Male</td>\n",
       "      <td>False</td>\n",
       "    </tr>\n",
       "    <tr>\n",
       "      <th>179730</th>\n",
       "      <td>0 days 00:05:09</td>\n",
       "      <td>2019-02-01 12:59:45.969</td>\n",
       "      <td>2019-02-01 13:04:55.426</td>\n",
       "      <td>NaN</td>\n",
       "      <td>NaN</td>\n",
       "      <td>37.40</td>\n",
       "      <td>-121.94</td>\n",
       "      <td>NaN</td>\n",
       "      <td>NaN</td>\n",
       "      <td>37.40</td>\n",
       "      <td>-121.93</td>\n",
       "      <td>4249</td>\n",
       "      <td>Customer</td>\n",
       "      <td>1987</td>\n",
       "      <td>Female</td>\n",
       "      <td>False</td>\n",
       "    </tr>\n",
       "    <tr>\n",
       "      <th>179970</th>\n",
       "      <td>0 days 00:10:59</td>\n",
       "      <td>2019-02-01 12:17:37.675</td>\n",
       "      <td>2019-02-01 12:28:37.014</td>\n",
       "      <td>NaN</td>\n",
       "      <td>NaN</td>\n",
       "      <td>37.41</td>\n",
       "      <td>-121.96</td>\n",
       "      <td>NaN</td>\n",
       "      <td>NaN</td>\n",
       "      <td>37.41</td>\n",
       "      <td>-121.94</td>\n",
       "      <td>4092</td>\n",
       "      <td>Subscriber</td>\n",
       "      <td>1999</td>\n",
       "      <td>Female</td>\n",
       "      <td>False</td>\n",
       "    </tr>\n",
       "    <tr>\n",
       "      <th>180106</th>\n",
       "      <td>0 days 00:33:33</td>\n",
       "      <td>2019-02-01 11:33:55.147</td>\n",
       "      <td>2019-02-01 12:07:28.940</td>\n",
       "      <td>NaN</td>\n",
       "      <td>NaN</td>\n",
       "      <td>37.40</td>\n",
       "      <td>-121.94</td>\n",
       "      <td>NaN</td>\n",
       "      <td>NaN</td>\n",
       "      <td>37.40</td>\n",
       "      <td>-121.94</td>\n",
       "      <td>4251</td>\n",
       "      <td>Customer</td>\n",
       "      <td>1990</td>\n",
       "      <td>Female</td>\n",
       "      <td>False</td>\n",
       "    </tr>\n",
       "    <tr>\n",
       "      <th>181201</th>\n",
       "      <td>0 days 00:05:12</td>\n",
       "      <td>2019-02-01 09:26:34.803</td>\n",
       "      <td>2019-02-01 09:31:46.921</td>\n",
       "      <td>NaN</td>\n",
       "      <td>NaN</td>\n",
       "      <td>37.40</td>\n",
       "      <td>-121.93</td>\n",
       "      <td>NaN</td>\n",
       "      <td>NaN</td>\n",
       "      <td>37.40</td>\n",
       "      <td>-121.93</td>\n",
       "      <td>4208</td>\n",
       "      <td>Subscriber</td>\n",
       "      <td>1987</td>\n",
       "      <td>Male</td>\n",
       "      <td>False</td>\n",
       "    </tr>\n",
       "  </tbody>\n",
       "</table>\n",
       "<p>197 rows × 16 columns</p>\n",
       "</div>"
      ],
      "text/plain": [
       "              duration              start_time                end_time  \\\n",
       "475    0 days 00:28:29 2019-02-28 20:55:53.932 2019-02-28 21:24:23.738   \n",
       "1733   0 days 00:21:12 2019-02-28 18:32:34.273 2019-02-28 18:53:46.727   \n",
       "3625   0 days 00:02:22 2019-02-28 17:10:46.529 2019-02-28 17:13:09.431   \n",
       "4070   0 days 00:09:45 2019-02-28 16:28:45.934 2019-02-28 16:38:31.332   \n",
       "5654   0 days 00:08:29 2019-02-28 12:30:17.131 2019-02-28 12:38:46.329   \n",
       "...                ...                     ...                     ...   \n",
       "176154 0 days 00:24:07 2019-02-02 12:03:04.544 2019-02-02 12:27:12.267   \n",
       "179730 0 days 00:05:09 2019-02-01 12:59:45.969 2019-02-01 13:04:55.426   \n",
       "179970 0 days 00:10:59 2019-02-01 12:17:37.675 2019-02-01 12:28:37.014   \n",
       "180106 0 days 00:33:33 2019-02-01 11:33:55.147 2019-02-01 12:07:28.940   \n",
       "181201 0 days 00:05:12 2019-02-01 09:26:34.803 2019-02-01 09:31:46.921   \n",
       "\n",
       "       start_station_id start_station_name  start_station_latitude  \\\n",
       "475                 NaN                NaN                   37.40   \n",
       "1733                NaN                NaN                   37.40   \n",
       "3625                NaN                NaN                   37.41   \n",
       "4070                NaN                NaN                   37.39   \n",
       "5654                NaN                NaN                   37.40   \n",
       "...                 ...                ...                     ...   \n",
       "176154              NaN                NaN                   37.40   \n",
       "179730              NaN                NaN                   37.40   \n",
       "179970              NaN                NaN                   37.41   \n",
       "180106              NaN                NaN                   37.40   \n",
       "181201              NaN                NaN                   37.40   \n",
       "\n",
       "        start_station_longitude end_station_id end_station_name  \\\n",
       "475                     -121.94            NaN              NaN   \n",
       "1733                    -121.94            NaN              NaN   \n",
       "3625                    -121.95            NaN              NaN   \n",
       "4070                    -121.93            NaN              NaN   \n",
       "5654                    -121.92            NaN              NaN   \n",
       "...                         ...            ...              ...   \n",
       "176154                  -121.93            NaN              NaN   \n",
       "179730                  -121.94            NaN              NaN   \n",
       "179970                  -121.96            NaN              NaN   \n",
       "180106                  -121.94            NaN              NaN   \n",
       "181201                  -121.93            NaN              NaN   \n",
       "\n",
       "        end_station_latitude  end_station_longitude bike_id   user_type  \\\n",
       "475                    37.40                -121.93    4211    Customer   \n",
       "1733                   37.41                -121.96    4174  Subscriber   \n",
       "3625                   37.41                -121.96    4283  Subscriber   \n",
       "4070                   37.40                -121.92    4089  Subscriber   \n",
       "5654                   37.39                -121.93    4089  Subscriber   \n",
       "...                      ...                    ...     ...         ...   \n",
       "176154                 37.40                -121.93    4249    Customer   \n",
       "179730                 37.40                -121.93    4249    Customer   \n",
       "179970                 37.41                -121.94    4092  Subscriber   \n",
       "180106                 37.40                -121.94    4251    Customer   \n",
       "181201                 37.40                -121.93    4208  Subscriber   \n",
       "\n",
       "        member_birth_year member_gender  bike_share_for_all_trip  \n",
       "475                  1991        Female                    False  \n",
       "1733                 1980          Male                    False  \n",
       "3625                 1988          Male                    False  \n",
       "4070                 1984          Male                     True  \n",
       "5654                 1984          Male                     True  \n",
       "...                   ...           ...                      ...  \n",
       "176154               1984          Male                    False  \n",
       "179730               1987        Female                    False  \n",
       "179970               1999        Female                    False  \n",
       "180106               1990        Female                    False  \n",
       "181201               1987          Male                    False  \n",
       "\n",
       "[197 rows x 16 columns]"
      ]
     },
     "execution_count": 8,
     "metadata": {},
     "output_type": "execute_result"
    }
   ],
   "source": [
    "df.loc[df.start_station_id.isna()]"
   ]
  },
  {
   "cell_type": "markdown",
   "metadata": {},
   "source": [
    "Below assertions check that null station ID will always be accompanied by null station name."
   ]
  },
  {
   "cell_type": "code",
   "execution_count": 9,
   "metadata": {},
   "outputs": [],
   "source": [
    "assert (df.start_station_id.isna() & ~df.start_station_name.isna()).sum() == 0\n",
    "assert (~df.start_station_id.isna() & df.start_station_name.isna()).sum() == 0\n",
    "assert (df.end_station_id.isna() & ~df.end_station_name.isna()).sum() == 0\n",
    "assert (~df.end_station_id.isna() & df.end_station_name.isna()).sum() == 0"
   ]
  },
  {
   "cell_type": "markdown",
   "metadata": {},
   "source": [
    "Conclusion: It is okay to have null station name and ID, because possibly due to not yet recognized place. The latitude and longitude information of the station can still be used for analysis."
   ]
  },
  {
   "cell_type": "markdown",
   "metadata": {},
   "source": [
    "#### Null Member Birth Year and Gender\n",
    "##### Assessment\n",
    "Below assertions check that null member birth year is always accompanied by null member gender."
   ]
  },
  {
   "cell_type": "code",
   "execution_count": 10,
   "metadata": {},
   "outputs": [],
   "source": [
    "assert (df.member_birth_year.isna() & ~df.member_gender.isna()).sum() == 0\n",
    "assert (~df.member_birth_year.isna() & df.member_gender.isna()).sum() == 0"
   ]
  },
  {
   "cell_type": "markdown",
   "metadata": {},
   "source": [
    "Below code shows that both customers and subscribers may have null member birth year and gender."
   ]
  },
  {
   "cell_type": "code",
   "execution_count": 11,
   "metadata": {},
   "outputs": [
    {
     "name": "stdout",
     "output_type": "stream",
     "text": [
      "User types having null birth year: ['Customer', 'Subscriber']\n",
      "User types having null gender: ['Customer', 'Subscriber']\n"
     ]
    }
   ],
   "source": [
    "print(f'User types having null birth year: {df.loc[df.member_birth_year.isna()].user_type.unique().to_list()}')\n",
    "print(f'User types having null gender: {df.loc[df.member_gender.isna()].user_type.unique().to_list()}')"
   ]
  },
  {
   "cell_type": "markdown",
   "metadata": {},
   "source": [
    "*Extra information*: Below code shows that amongst the rows with null birth year and gender, 60.8% of them are subscribers, while 39.2% are customers."
   ]
  },
  {
   "cell_type": "code",
   "execution_count": 12,
   "metadata": {},
   "outputs": [
    {
     "data": {
      "text/plain": [
       "user_type\n",
       "Customer      0.391652\n",
       "Subscriber    0.608348\n",
       "Name: bike_id, dtype: float64"
      ]
     },
     "execution_count": 12,
     "metadata": {},
     "output_type": "execute_result"
    }
   ],
   "source": [
    "df.loc[df.member_birth_year.isna()].groupby('user_type').bike_id.count() / df.member_birth_year.isna().sum()"
   ]
  },
  {
   "cell_type": "markdown",
   "metadata": {},
   "source": [
    "Conclusion: It is okay to have null member birth year and gender, which is considered as part of data privacy protection."
   ]
  },
  {
   "cell_type": "markdown",
   "metadata": {},
   "source": [
    "#### Too-Early Member Birth Year\n",
    "\n",
    "##### Assessment\n",
    "From the print below, you can see that the minimum of member birth year is 1878, which shows that the user is 141 years old (with respect to year 2019). This is practically inaccurate, as person that old is highly unlikely to be able to ride a bike."
   ]
  },
  {
   "cell_type": "code",
   "execution_count": 13,
   "metadata": {},
   "outputs": [
    {
     "data": {
      "text/html": [
       "<div>\n",
       "<style scoped>\n",
       "    .dataframe tbody tr th:only-of-type {\n",
       "        vertical-align: middle;\n",
       "    }\n",
       "\n",
       "    .dataframe tbody tr th {\n",
       "        vertical-align: top;\n",
       "    }\n",
       "\n",
       "    .dataframe thead th {\n",
       "        text-align: right;\n",
       "    }\n",
       "</style>\n",
       "<table border=\"1\" class=\"dataframe\">\n",
       "  <thead>\n",
       "    <tr style=\"text-align: right;\">\n",
       "      <th></th>\n",
       "      <th>duration</th>\n",
       "      <th>start_time</th>\n",
       "      <th>end_time</th>\n",
       "      <th>start_station_id</th>\n",
       "      <th>start_station_name</th>\n",
       "      <th>start_station_latitude</th>\n",
       "      <th>start_station_longitude</th>\n",
       "      <th>end_station_id</th>\n",
       "      <th>end_station_name</th>\n",
       "      <th>end_station_latitude</th>\n",
       "      <th>end_station_longitude</th>\n",
       "      <th>bike_id</th>\n",
       "      <th>user_type</th>\n",
       "      <th>member_birth_year</th>\n",
       "      <th>member_gender</th>\n",
       "      <th>bike_share_for_all_trip</th>\n",
       "    </tr>\n",
       "  </thead>\n",
       "  <tbody>\n",
       "    <tr>\n",
       "      <th>27370</th>\n",
       "      <td>0 days 00:24:34</td>\n",
       "      <td>2019-02-25 09:28:42.161</td>\n",
       "      <td>2019-02-25 09:53:17.068</td>\n",
       "      <td>15</td>\n",
       "      <td>San Francisco Ferry Building (Harry Bridges Pl...</td>\n",
       "      <td>37.795392</td>\n",
       "      <td>-122.394203</td>\n",
       "      <td>386</td>\n",
       "      <td>24th St at Bartlett St</td>\n",
       "      <td>37.752105</td>\n",
       "      <td>-122.419724</td>\n",
       "      <td>6436</td>\n",
       "      <td>Customer</td>\n",
       "      <td>1878</td>\n",
       "      <td>Female</td>\n",
       "      <td>False</td>\n",
       "    </tr>\n",
       "  </tbody>\n",
       "</table>\n",
       "</div>"
      ],
      "text/plain": [
       "             duration              start_time                end_time  \\\n",
       "27370 0 days 00:24:34 2019-02-25 09:28:42.161 2019-02-25 09:53:17.068   \n",
       "\n",
       "      start_station_id                                 start_station_name  \\\n",
       "27370               15  San Francisco Ferry Building (Harry Bridges Pl...   \n",
       "\n",
       "       start_station_latitude  start_station_longitude end_station_id  \\\n",
       "27370               37.795392              -122.394203            386   \n",
       "\n",
       "             end_station_name  end_station_latitude  end_station_longitude  \\\n",
       "27370  24th St at Bartlett St             37.752105            -122.419724   \n",
       "\n",
       "      bike_id user_type  member_birth_year member_gender  \\\n",
       "27370    6436  Customer               1878        Female   \n",
       "\n",
       "       bike_share_for_all_trip  \n",
       "27370                    False  "
      ]
     },
     "execution_count": 13,
     "metadata": {},
     "output_type": "execute_result"
    }
   ],
   "source": [
    "df.loc[df.member_birth_year == df.member_birth_year.min()]"
   ]
  },
  {
   "cell_type": "code",
   "execution_count": 14,
   "metadata": {},
   "outputs": [
    {
     "data": {
      "text/plain": [
       "count    175147.000000\n",
       "mean       1984.806437\n",
       "std          10.116689\n",
       "min        1878.000000\n",
       "25%        1980.000000\n",
       "50%        1987.000000\n",
       "75%        1992.000000\n",
       "max        2001.000000\n",
       "Name: member_birth_year, dtype: float64"
      ]
     },
     "execution_count": 14,
     "metadata": {},
     "output_type": "execute_result"
    }
   ],
   "source": [
    "df.member_birth_year.describe()"
   ]
  },
  {
   "cell_type": "code",
   "execution_count": 15,
   "metadata": {},
   "outputs": [
    {
     "data": {
      "image/png": "[encoded data removed]",
      "text/plain": [
       "<Figure size 432x288 with 1 Axes>"
      ]
     },
     "metadata": {
      "needs_background": "light"
     },
     "output_type": "display_data"
    }
   ],
   "source": [
    "sb.histplot(df.member_birth_year)\n",
    "plt.xlim(1878, 1940)\n",
    "plt.ylim(0, 100);"
   ]
  },
  {
   "cell_type": "markdown",
   "metadata": {},
   "source": [
    "From the histogram above, it can be seen that there are weirdly high number of users with birth year on 1900. Even though it is possible for a human that old to still be able to cycle, there should only be a few of people that are able to do so. Even the oldest cyclist that we have right now so far, i.e. Robert Marchand, is born on 1911. The fact that it's only him that receives the spotlight in the world means that it is highly unlikely that there are other people near his age that still cycles.\n",
    "\n",
    "Looking at the histogram above, there seems to be a spike at around 1930. This is still logically possible since people born 1930 will be 89 years old by the time this data is collected (i.e. at 2019), and it is still quite possible for people aged 89 to still be able to cycle a bike. There are also some users with birth year a bit earlier than 1930. Thus, from this, I'd set the threshold for the member birth year to be around 1925, so as to give the benefit of the doubt to the users that are born a bit earlier than 1930. For users with birth year earlier than 1925, I will consider them as inaccurate values and will replace their birth year as null. I will not set them to an assumed value so that it does not interfere with analysis result.\n",
    "\n",
    "##### Cleaning\n",
    "Replace member_birth_year that are earlier than 1925 to be NaN."
   ]
  },
  {
   "cell_type": "code",
   "execution_count": 16,
   "metadata": {},
   "outputs": [],
   "source": [
    "idxs = df.member_birth_year < 1925\n",
    "old_number_of_nans = df.member_birth_year.isna().sum()\n",
    "df.member_birth_year.loc[idxs] = np.NaN\n",
    "\n",
    "# test\n",
    "assert df.member_birth_year.isna().sum() == old_number_of_nans + idxs.sum()\n",
    "assert (df.member_birth_year < 1925).sum() == 0"
   ]
  },
  {
   "cell_type": "markdown",
   "metadata": {},
   "source": [
    "Now we can see in below histogram that there are no more users with birth year earlier than 1925."
   ]
  },
  {
   "cell_type": "code",
   "execution_count": 17,
   "metadata": {},
   "outputs": [
    {
     "data": {
      "image/png": "[encoded data removed]",
      "text/plain": [
       "<Figure size 432x288 with 1 Axes>"
      ]
     },
     "metadata": {
      "needs_background": "light"
     },
     "output_type": "display_data"
    }
   ],
   "source": [
    "np.sort(df.member_birth_year.dropna().values)\n",
    "sb.histplot(df.member_birth_year)\n",
    "plt.xlim(1878, 1940)\n",
    "plt.ylim(0, 100);"
   ]
  },
  {
   "cell_type": "markdown",
   "metadata": {},
   "source": [
    "#### Duration Accuracy Assessment\n",
    "Comparing the duration with the difference between start and end time, and showing the statistics, shows that the duration values are accurate. This is because as can be seen below, the maximum difference between the duration and the actual difference between start and end time is only 999 milliseconds."
   ]
  },
  {
   "cell_type": "code",
   "execution_count": 18,
   "metadata": {},
   "outputs": [
    {
     "data": {
      "text/plain": [
       "count                       183412\n",
       "mean     0 days 00:00:00.499112729\n",
       "std      0 days 00:00:00.288287556\n",
       "min                0 days 00:00:00\n",
       "25%         0 days 00:00:00.249000\n",
       "50%         0 days 00:00:00.500000\n",
       "75%         0 days 00:00:00.748000\n",
       "max         0 days 00:00:00.999000\n",
       "dtype: object"
      ]
     },
     "execution_count": 18,
     "metadata": {},
     "output_type": "execute_result"
    }
   ],
   "source": [
    "((df.end_time - df.start_time) - df.duration).describe()"
   ]
  },
  {
   "cell_type": "markdown",
   "metadata": {},
   "source": [
    "Conclusion: it is concluded that the duration and the start and end times approximately agree with each other, and hence the duration data is accurate and consistent."
   ]
  },
  {
   "cell_type": "markdown",
   "metadata": {},
   "source": [
    "#### Data Quality Assessment Conclusion"
   ]
  },
  {
   "cell_type": "markdown",
   "metadata": {},
   "source": [
    "All columns are now considered as acceptable and in good quality. The data is also considered as tidy. Below the dataframes preview are presented."
   ]
  },
  {
   "cell_type": "code",
   "execution_count": 19,
   "metadata": {},
   "outputs": [
    {
     "data": {
      "text/html": [
       "<div>\n",
       "<style scoped>\n",
       "    .dataframe tbody tr th:only-of-type {\n",
       "        vertical-align: middle;\n",
       "    }\n",
       "\n",
       "    .dataframe tbody tr th {\n",
       "        vertical-align: top;\n",
       "    }\n",
       "\n",
       "    .dataframe thead th {\n",
       "        text-align: right;\n",
       "    }\n",
       "</style>\n",
       "<table border=\"1\" class=\"dataframe\">\n",
       "  <thead>\n",
       "    <tr style=\"text-align: right;\">\n",
       "      <th></th>\n",
       "      <th>duration</th>\n",
       "      <th>start_time</th>\n",
       "      <th>end_time</th>\n",
       "      <th>start_station_id</th>\n",
       "      <th>start_station_name</th>\n",
       "      <th>start_station_latitude</th>\n",
       "      <th>start_station_longitude</th>\n",
       "      <th>end_station_id</th>\n",
       "      <th>end_station_name</th>\n",
       "      <th>end_station_latitude</th>\n",
       "      <th>end_station_longitude</th>\n",
       "      <th>bike_id</th>\n",
       "      <th>user_type</th>\n",
       "      <th>member_birth_year</th>\n",
       "      <th>member_gender</th>\n",
       "      <th>bike_share_for_all_trip</th>\n",
       "    </tr>\n",
       "  </thead>\n",
       "  <tbody>\n",
       "    <tr>\n",
       "      <th>0</th>\n",
       "      <td>0 days 14:29:45</td>\n",
       "      <td>2019-02-28 17:32:10.145</td>\n",
       "      <td>2019-03-01 08:01:55.975</td>\n",
       "      <td>21</td>\n",
       "      <td>Montgomery St BART Station (Market St at 2nd St)</td>\n",
       "      <td>37.789625</td>\n",
       "      <td>-122.400811</td>\n",
       "      <td>13</td>\n",
       "      <td>Commercial St at Montgomery St</td>\n",
       "      <td>37.794231</td>\n",
       "      <td>-122.402923</td>\n",
       "      <td>4902</td>\n",
       "      <td>Customer</td>\n",
       "      <td>1984</td>\n",
       "      <td>Male</td>\n",
       "      <td>False</td>\n",
       "    </tr>\n",
       "    <tr>\n",
       "      <th>1</th>\n",
       "      <td>0 days 11:48:41</td>\n",
       "      <td>2019-02-28 18:53:21.789</td>\n",
       "      <td>2019-03-01 06:42:03.056</td>\n",
       "      <td>23</td>\n",
       "      <td>The Embarcadero at Steuart St</td>\n",
       "      <td>37.791464</td>\n",
       "      <td>-122.391034</td>\n",
       "      <td>81</td>\n",
       "      <td>Berry St at 4th St</td>\n",
       "      <td>37.775880</td>\n",
       "      <td>-122.393170</td>\n",
       "      <td>2535</td>\n",
       "      <td>Customer</td>\n",
       "      <td>&lt;NA&gt;</td>\n",
       "      <td>NaN</td>\n",
       "      <td>False</td>\n",
       "    </tr>\n",
       "    <tr>\n",
       "      <th>2</th>\n",
       "      <td>0 days 17:10:54</td>\n",
       "      <td>2019-02-28 12:13:13.218</td>\n",
       "      <td>2019-03-01 05:24:08.146</td>\n",
       "      <td>86</td>\n",
       "      <td>Market St at Dolores St</td>\n",
       "      <td>37.769305</td>\n",
       "      <td>-122.426826</td>\n",
       "      <td>3</td>\n",
       "      <td>Powell St BART Station (Market St at 4th St)</td>\n",
       "      <td>37.786375</td>\n",
       "      <td>-122.404904</td>\n",
       "      <td>5905</td>\n",
       "      <td>Customer</td>\n",
       "      <td>1972</td>\n",
       "      <td>Male</td>\n",
       "      <td>False</td>\n",
       "    </tr>\n",
       "    <tr>\n",
       "      <th>3</th>\n",
       "      <td>0 days 10:08:10</td>\n",
       "      <td>2019-02-28 17:54:26.010</td>\n",
       "      <td>2019-03-01 04:02:36.842</td>\n",
       "      <td>375</td>\n",
       "      <td>Grove St at Masonic Ave</td>\n",
       "      <td>37.774836</td>\n",
       "      <td>-122.446546</td>\n",
       "      <td>70</td>\n",
       "      <td>Central Ave at Fell St</td>\n",
       "      <td>37.773311</td>\n",
       "      <td>-122.444293</td>\n",
       "      <td>6638</td>\n",
       "      <td>Subscriber</td>\n",
       "      <td>1989</td>\n",
       "      <td>Other</td>\n",
       "      <td>False</td>\n",
       "    </tr>\n",
       "    <tr>\n",
       "      <th>4</th>\n",
       "      <td>0 days 00:26:25</td>\n",
       "      <td>2019-02-28 23:54:18.549</td>\n",
       "      <td>2019-03-01 00:20:44.074</td>\n",
       "      <td>7</td>\n",
       "      <td>Frank H Ogawa Plaza</td>\n",
       "      <td>37.804562</td>\n",
       "      <td>-122.271738</td>\n",
       "      <td>222</td>\n",
       "      <td>10th Ave at E 15th St</td>\n",
       "      <td>37.792714</td>\n",
       "      <td>-122.248780</td>\n",
       "      <td>4898</td>\n",
       "      <td>Subscriber</td>\n",
       "      <td>1974</td>\n",
       "      <td>Male</td>\n",
       "      <td>True</td>\n",
       "    </tr>\n",
       "  </tbody>\n",
       "</table>\n",
       "</div>"
      ],
      "text/plain": [
       "         duration              start_time                end_time  \\\n",
       "0 0 days 14:29:45 2019-02-28 17:32:10.145 2019-03-01 08:01:55.975   \n",
       "1 0 days 11:48:41 2019-02-28 18:53:21.789 2019-03-01 06:42:03.056   \n",
       "2 0 days 17:10:54 2019-02-28 12:13:13.218 2019-03-01 05:24:08.146   \n",
       "3 0 days 10:08:10 2019-02-28 17:54:26.010 2019-03-01 04:02:36.842   \n",
       "4 0 days 00:26:25 2019-02-28 23:54:18.549 2019-03-01 00:20:44.074   \n",
       "\n",
       "  start_station_id                                start_station_name  \\\n",
       "0               21  Montgomery St BART Station (Market St at 2nd St)   \n",
       "1               23                     The Embarcadero at Steuart St   \n",
       "2               86                           Market St at Dolores St   \n",
       "3              375                           Grove St at Masonic Ave   \n",
       "4                7                               Frank H Ogawa Plaza   \n",
       "\n",
       "   start_station_latitude  start_station_longitude end_station_id  \\\n",
       "0               37.789625              -122.400811             13   \n",
       "1               37.791464              -122.391034             81   \n",
       "2               37.769305              -122.426826              3   \n",
       "3               37.774836              -122.446546             70   \n",
       "4               37.804562              -122.271738            222   \n",
       "\n",
       "                               end_station_name  end_station_latitude  \\\n",
       "0                Commercial St at Montgomery St             37.794231   \n",
       "1                            Berry St at 4th St             37.775880   \n",
       "2  Powell St BART Station (Market St at 4th St)             37.786375   \n",
       "3                        Central Ave at Fell St             37.773311   \n",
       "4                         10th Ave at E 15th St             37.792714   \n",
       "\n",
       "   end_station_longitude bike_id   user_type  member_birth_year member_gender  \\\n",
       "0            -122.402923    4902    Customer               1984          Male   \n",
       "1            -122.393170    2535    Customer               <NA>           NaN   \n",
       "2            -122.404904    5905    Customer               1972          Male   \n",
       "3            -122.444293    6638  Subscriber               1989         Other   \n",
       "4            -122.248780    4898  Subscriber               1974          Male   \n",
       "\n",
       "   bike_share_for_all_trip  \n",
       "0                    False  \n",
       "1                    False  \n",
       "2                    False  \n",
       "3                    False  \n",
       "4                     True  "
      ]
     },
     "execution_count": 19,
     "metadata": {},
     "output_type": "execute_result"
    }
   ],
   "source": [
    "df.head()"
   ]
  },
  {
   "cell_type": "code",
   "execution_count": 20,
   "metadata": {},
   "outputs": [
    {
     "name": "stdout",
     "output_type": "stream",
     "text": [
      "<class 'pandas.core.frame.DataFrame'>\n",
      "RangeIndex: 183412 entries, 0 to 183411\n",
      "Data columns (total 16 columns):\n",
      " #   Column                   Non-Null Count   Dtype          \n",
      "---  ------                   --------------   -----          \n",
      " 0   duration                 183412 non-null  timedelta64[ns]\n",
      " 1   start_time               183412 non-null  datetime64[ns] \n",
      " 2   end_time                 183412 non-null  datetime64[ns] \n",
      " 3   start_station_id         183215 non-null  object         \n",
      " 4   start_station_name       183215 non-null  object         \n",
      " 5   start_station_latitude   183412 non-null  float64        \n",
      " 6   start_station_longitude  183412 non-null  float64        \n",
      " 7   end_station_id           183215 non-null  object         \n",
      " 8   end_station_name         183215 non-null  object         \n",
      " 9   end_station_latitude     183412 non-null  float64        \n",
      " 10  end_station_longitude    183412 non-null  float64        \n",
      " 11  bike_id                  183412 non-null  object         \n",
      " 12  user_type                183412 non-null  category       \n",
      " 13  member_birth_year        175072 non-null  Int16          \n",
      " 14  member_gender            175147 non-null  category       \n",
      " 15  bike_share_for_all_trip  183412 non-null  bool           \n",
      "dtypes: Int16(1), bool(1), category(2), datetime64[ns](2), float64(4), object(5), timedelta64[ns](1)\n",
      "memory usage: 17.8+ MB\n"
     ]
    }
   ],
   "source": [
    "df.info()"
   ]
  },
  {
   "cell_type": "code",
   "execution_count": 21,
   "metadata": {},
   "outputs": [
    {
     "data": {
      "text/html": [
       "<div>\n",
       "<style scoped>\n",
       "    .dataframe tbody tr th:only-of-type {\n",
       "        vertical-align: middle;\n",
       "    }\n",
       "\n",
       "    .dataframe tbody tr th {\n",
       "        vertical-align: top;\n",
       "    }\n",
       "\n",
       "    .dataframe thead th {\n",
       "        text-align: right;\n",
       "    }\n",
       "</style>\n",
       "<table border=\"1\" class=\"dataframe\">\n",
       "  <thead>\n",
       "    <tr style=\"text-align: right;\">\n",
       "      <th></th>\n",
       "      <th>duration</th>\n",
       "      <th>start_station_latitude</th>\n",
       "      <th>start_station_longitude</th>\n",
       "      <th>end_station_latitude</th>\n",
       "      <th>end_station_longitude</th>\n",
       "      <th>member_birth_year</th>\n",
       "    </tr>\n",
       "  </thead>\n",
       "  <tbody>\n",
       "    <tr>\n",
       "      <th>count</th>\n",
       "      <td>183412</td>\n",
       "      <td>183412.000000</td>\n",
       "      <td>183412.000000</td>\n",
       "      <td>183412.000000</td>\n",
       "      <td>183412.000000</td>\n",
       "      <td>175072.000000</td>\n",
       "    </tr>\n",
       "    <tr>\n",
       "      <th>mean</th>\n",
       "      <td>0 days 00:12:06.078435434</td>\n",
       "      <td>37.771223</td>\n",
       "      <td>-122.352664</td>\n",
       "      <td>37.771427</td>\n",
       "      <td>-122.352250</td>\n",
       "      <td>1984.842333</td>\n",
       "    </tr>\n",
       "    <tr>\n",
       "      <th>std</th>\n",
       "      <td>0 days 00:29:54.389780016</td>\n",
       "      <td>0.099581</td>\n",
       "      <td>0.117097</td>\n",
       "      <td>0.099490</td>\n",
       "      <td>0.116673</td>\n",
       "      <td>9.968551</td>\n",
       "    </tr>\n",
       "    <tr>\n",
       "      <th>min</th>\n",
       "      <td>0 days 00:01:01</td>\n",
       "      <td>37.317298</td>\n",
       "      <td>-122.453704</td>\n",
       "      <td>37.317298</td>\n",
       "      <td>-122.453704</td>\n",
       "      <td>1927.000000</td>\n",
       "    </tr>\n",
       "    <tr>\n",
       "      <th>25%</th>\n",
       "      <td>0 days 00:05:25</td>\n",
       "      <td>37.770083</td>\n",
       "      <td>-122.412408</td>\n",
       "      <td>37.770407</td>\n",
       "      <td>-122.411726</td>\n",
       "      <td>1980.000000</td>\n",
       "    </tr>\n",
       "    <tr>\n",
       "      <th>50%</th>\n",
       "      <td>0 days 00:08:34</td>\n",
       "      <td>37.780760</td>\n",
       "      <td>-122.398285</td>\n",
       "      <td>37.781010</td>\n",
       "      <td>-122.398279</td>\n",
       "      <td>1987.000000</td>\n",
       "    </tr>\n",
       "    <tr>\n",
       "      <th>75%</th>\n",
       "      <td>0 days 00:13:16</td>\n",
       "      <td>37.797280</td>\n",
       "      <td>-122.286533</td>\n",
       "      <td>37.797320</td>\n",
       "      <td>-122.288045</td>\n",
       "      <td>1992.000000</td>\n",
       "    </tr>\n",
       "    <tr>\n",
       "      <th>max</th>\n",
       "      <td>0 days 23:44:04</td>\n",
       "      <td>37.880222</td>\n",
       "      <td>-121.874119</td>\n",
       "      <td>37.880222</td>\n",
       "      <td>-121.874119</td>\n",
       "      <td>2001.000000</td>\n",
       "    </tr>\n",
       "  </tbody>\n",
       "</table>\n",
       "</div>"
      ],
      "text/plain": [
       "                        duration  start_station_latitude  \\\n",
       "count                     183412           183412.000000   \n",
       "mean   0 days 00:12:06.078435434               37.771223   \n",
       "std    0 days 00:29:54.389780016                0.099581   \n",
       "min              0 days 00:01:01               37.317298   \n",
       "25%              0 days 00:05:25               37.770083   \n",
       "50%              0 days 00:08:34               37.780760   \n",
       "75%              0 days 00:13:16               37.797280   \n",
       "max              0 days 23:44:04               37.880222   \n",
       "\n",
       "       start_station_longitude  end_station_latitude  end_station_longitude  \\\n",
       "count            183412.000000         183412.000000          183412.000000   \n",
       "mean               -122.352664             37.771427            -122.352250   \n",
       "std                   0.117097              0.099490               0.116673   \n",
       "min                -122.453704             37.317298            -122.453704   \n",
       "25%                -122.412408             37.770407            -122.411726   \n",
       "50%                -122.398285             37.781010            -122.398279   \n",
       "75%                -122.286533             37.797320            -122.288045   \n",
       "max                -121.874119             37.880222            -121.874119   \n",
       "\n",
       "       member_birth_year  \n",
       "count      175072.000000  \n",
       "mean         1984.842333  \n",
       "std             9.968551  \n",
       "min          1927.000000  \n",
       "25%          1980.000000  \n",
       "50%          1987.000000  \n",
       "75%          1992.000000  \n",
       "max          2001.000000  "
      ]
     },
     "execution_count": 21,
     "metadata": {},
     "output_type": "execute_result"
    }
   ],
   "source": [
    "df.describe()"
   ]
  },
  {
   "cell_type": "markdown",
   "metadata": {},
   "source": [
    "### What is the structure of your dataset?\n",
    "There are 183412 bike usage records in the dataset with 14 features (duration_sec, start_time, end_time, start_station_id, start_station_name, start_station_latitude, start_station_longitude, end_station_id, end_station_name, end_station_latitude, end_station_longitude, bike_id, user_type, member_birth_year, member_gender, bike_share_for_all_trip).\n",
    "\n",
    "The columns are mostly numeric with some datetime columns for start and end time and some nominal categorical columns like user_type and member_gender.\n",
    "\n",
    "There are some null values for the station IDs and names, member birth year, and member gender, but those null values are deemed reasonable and will not be removed.\n",
    "\n",
    "### What is/are the main feature(s) of interest in your dataset?\n",
    "Main features of interest in the dataset are:\n",
    "- statistics of bike usage demand based on time, location, and user demography\n",
    "- the most favored destination of users\n",
    "- any \"users' favorite\" bike, to look at any possible \"special\" bike that is taken at the highest rate by the users, which might indicate that the bike has higher quality than others and can be used as reference when the company needs to order new bikes.\n",
    "\n",
    "### What features in the dataset do you think will help support your investigation into your feature(s) of interest?\n",
    "All columns are apparently helpful to investigate the features of interest described above:\n",
    "- duration can be used as metric for the bike usage demand\n",
    "- user type, member birth year, and member gender can be used for user demography\n",
    "- start time and station can be used for finding bike demand based on time and location\n",
    "- end station can be used to find most favored destination of users\n",
    "- end time can be used to see at what time most bikes are available\n",
    "- bike ID can be used to find if there is any \"users' favorite\" bike"
   ]
  },
  {
   "cell_type": "markdown",
   "metadata": {},
   "source": [
    "## Univariate Exploration\n",
    "\n",
    "> In this section, investigate distributions of individual variables. If\n",
    "you see unusual points or outliers, take a deeper look to clean things up\n",
    "and prepare yourself to look at relationships between variables."
   ]
  },
  {
   "cell_type": "markdown",
   "metadata": {},
   "source": [
    "### Bike ID\n",
    "Below we'll print the number of unique bike IDs, which shows the estimated total number of bikes available in the area (because there might be some bikes that are never used at all, hence not recorded in the dataset)."
   ]
  },
  {
   "cell_type": "code",
   "execution_count": 326,
   "metadata": {},
   "outputs": [
    {
     "data": {
      "text/plain": [
       "4646"
      ]
     },
     "execution_count": 326,
     "metadata": {},
     "output_type": "execute_result"
    }
   ],
   "source": [
    "df.bike_id.nunique()"
   ]
  },
  {
   "cell_type": "markdown",
   "metadata": {},
   "source": [
    "This means there are 4646 bikes in total within the area.\n",
    "\n",
    "Below is the plot of sorted value counts of the bike IDs."
   ]
  },
  {
   "cell_type": "code",
   "execution_count": 173,
   "metadata": {},
   "outputs": [
    {
     "data": {
      "image/png": "[encoded data removed]",
      "text/plain": [
       "<Figure size 1440x360 with 1 Axes>"
      ]
     },
     "metadata": {
      "needs_background": "light"
     },
     "output_type": "display_data"
    }
   ],
   "source": [
    "df.bike_id.value_counts().plot(kind='bar', xticks=[], xlabel='Bike ID', ylabel='count', figsize=(20,5));"
   ]
  },
  {
   "cell_type": "markdown",
   "metadata": {},
   "source": [
    "The plot shows that thereare bikes that are used more times than the others. This might be due to higher quality of bike, or due to the more strategic locations of the bikes. The top 5 most favorie bike IDs are printed below."
   ]
  },
  {
   "cell_type": "code",
   "execution_count": 336,
   "metadata": {},
   "outputs": [
    {
     "name": "stdout",
     "output_type": "stream",
     "text": [
      "Top 5 most favorite bike IDs: ['4794' '4814' '5014' '4422' '5145']\n"
     ]
    }
   ],
   "source": [
    "print(f'Top 5 most favorite bike IDs: {df.bike_id.value_counts().index[:5].values}')"
   ]
  },
  {
   "cell_type": "markdown",
   "metadata": {},
   "source": [
    "### Duration\n",
    "Below diagram shows sectioned histogram, to be able to see the histograms clearly on the lower count values at higher duration values."
   ]
  },
  {
   "cell_type": "code",
   "execution_count": 22,
   "metadata": {},
   "outputs": [
    {
     "data": {
      "image/png": "[encoded data removed]",
      "text/plain": [
       "<Figure size 720x1440 with 13 Axes>"
      ]
     },
     "metadata": {
      "needs_background": "light"
     },
     "output_type": "display_data"
    }
   ],
   "source": [
    "start_duration = -0.001\n",
    "end_durations = [2000, 4000, 6000, 8000, 10000, 20000, 30000, 40000, 50000, 60000, 70000, 80000, 85000]\n",
    "duration_seconds = df.duration.dt.total_seconds()\n",
    "plt.figure(figsize=(10,20))\n",
    "plt.tight_layout()\n",
    "for i, end_duration in enumerate(end_durations, start=1):\n",
    "    plt.subplot(len(end_durations), 1, i)\n",
    "    idxs = (duration_seconds > start_duration) & (duration_seconds <= end_duration)\n",
    "    sb.histplot(duration_seconds[idxs])\n",
    "    start_duration = end_duration"
   ]
  },
  {
   "cell_type": "markdown",
   "metadata": {},
   "source": [
    "The distribution seems to be right-skewed, and seems to follow Poisson distribution. Also, the distribution is smooth, i.e. no big gaps with zero counts in the distribution, showing that there are no outliers. The maximum value of distribution also still makes sense, i.e. ~84500 seconds, which is equal to roughly 24 hours.\n",
    "\n",
    "Below then I will plot using log scale."
   ]
  },
  {
   "cell_type": "code",
   "execution_count": 254,
   "metadata": {},
   "outputs": [
    {
     "data": {
      "image/png": "[encoded data removed]",
      "text/plain": [
       "<Figure size 1440x360 with 1 Axes>"
      ]
     },
     "metadata": {
      "needs_background": "light"
     },
     "output_type": "display_data"
    }
   ],
   "source": [
    "duration_secs = df.duration.dt.total_seconds()\n",
    "bins_log_size = 0.02\n",
    "powers = np.arange(np.log10(duration_secs.min()), np.log10(duration_secs.max()) + bins_log_size, bins_log_size)\n",
    "bins = 10 ** powers\n",
    "\n",
    "plt.figure(figsize=(20,5))\n",
    "sb.histplot(duration_secs, bins=bins)\n",
    "plt.xscale('log')"
   ]
  },
  {
   "cell_type": "markdown",
   "metadata": {},
   "source": [
    "Distribution shows that the duration is normally distributed on log scale, with slightly left skewed distribution."
   ]
  },
  {
   "cell_type": "markdown",
   "metadata": {},
   "source": [
    "### User Type"
   ]
  },
  {
   "cell_type": "code",
   "execution_count": 23,
   "metadata": {},
   "outputs": [
    {
     "data": {
      "image/png": "[encoded data removed]",
      "text/plain": [
       "<Figure size 432x288 with 1 Axes>"
      ]
     },
     "metadata": {
      "needs_background": "light"
     },
     "output_type": "display_data"
    }
   ],
   "source": [
    "df.user_type.value_counts().plot(kind='bar');\n",
    "plt.xticks(rotation=0);\n",
    "plt.ylabel('count');"
   ]
  },
  {
   "cell_type": "markdown",
   "metadata": {},
   "source": [
    "It is shown that there are much more subscribers than customers."
   ]
  },
  {
   "cell_type": "markdown",
   "metadata": {},
   "source": [
    "### Member Birth Year"
   ]
  },
  {
   "cell_type": "code",
   "execution_count": 24,
   "metadata": {},
   "outputs": [
    {
     "data": {
      "image/png": "[encoded data removed]",
      "text/plain": [
       "<Figure size 432x288 with 1 Axes>"
      ]
     },
     "metadata": {
      "needs_background": "light"
     },
     "output_type": "display_data"
    }
   ],
   "source": [
    "sb.histplot(df.member_birth_year);"
   ]
  },
  {
   "cell_type": "markdown",
   "metadata": {},
   "source": [
    "Distribution of member birth year seems to be left-skewed. This shows that there is a range of \"prime age\" where most bikers are at, and that any age older or younger than that prime age range are observed less, with older age observed more than younger age.\n",
    "\n",
    "Below we'll convert the member birth year to age."
   ]
  },
  {
   "cell_type": "code",
   "execution_count": 256,
   "metadata": {},
   "outputs": [
    {
     "data": {
      "image/png": "[encoded data removed]",
      "text/plain": [
       "<Figure size 432x288 with 1 Axes>"
      ]
     },
     "metadata": {
      "needs_background": "light"
     },
     "output_type": "display_data"
    }
   ],
   "source": [
    "df['age'] = 2019 - df.member_birth_year\n",
    "sb.histplot(df.age);"
   ]
  },
  {
   "cell_type": "markdown",
   "metadata": {},
   "source": [
    "The member ages instead are right skewed, showing indeed the hypothesis we had above. Below then I'll show the age distribution in log scale."
   ]
  },
  {
   "cell_type": "code",
   "execution_count": 257,
   "metadata": {},
   "outputs": [
    {
     "data": {
      "image/png": "[encoded data removed]",
      "text/plain": [
       "<Figure size 432x288 with 1 Axes>"
      ]
     },
     "metadata": {
      "needs_background": "light"
     },
     "output_type": "display_data"
    }
   ],
   "source": [
    "bins_size_log = 0.03\n",
    "bins = 10 ** np.arange(np.log10(df.age.min() + 0.1), np.log10(df.age.max()) + bins_size_log, bins_size_log)\n",
    "sb.histplot(df.age, bins=bins)\n",
    "plt.xscale('log')\n",
    "plt.xlabel('Age');\n",
    "ticks = [20, 30, 40, 50, 60, 70, 90]\n",
    "plt.xticks(ticks, ticks);"
   ]
  },
  {
   "cell_type": "markdown",
   "metadata": {},
   "source": [
    "The log scale distribution is almost having normal distribution, with still a little right skewedness.\n",
    "\n",
    "Nonetheless, we can see from both the linear and log scale histogram that in general highest bike demands are from the age group of around 30 years old."
   ]
  },
  {
   "cell_type": "markdown",
   "metadata": {},
   "source": [
    "### Member Gender"
   ]
  },
  {
   "cell_type": "code",
   "execution_count": 25,
   "metadata": {},
   "outputs": [
    {
     "data": {
      "image/png": "[encoded data removed]",
      "text/plain": [
       "<Figure size 432x288 with 1 Axes>"
      ]
     },
     "metadata": {
      "needs_background": "light"
     },
     "output_type": "display_data"
    }
   ],
   "source": [
    "df.member_gender.value_counts().plot(kind='bar', rot=0);\n",
    "plt.ylabel('count');"
   ]
  },
  {
   "cell_type": "markdown",
   "metadata": {},
   "source": [
    "The data shows that there is higher percentage of male than female users, with \"other\" gender being the lowest."
   ]
  },
  {
   "cell_type": "markdown",
   "metadata": {},
   "source": [
    "### Station ID and Name\n",
    "Below we'll plot the sorted value counts of the start and end station ID and name."
   ]
  },
  {
   "cell_type": "code",
   "execution_count": 91,
   "metadata": {},
   "outputs": [
    {
     "data": {
      "image/png": "[encoded data removed]",
      "text/plain": [
       "<Figure size 1440x720 with 4 Axes>"
      ]
     },
     "metadata": {
      "needs_background": "light"
     },
     "output_type": "display_data"
    }
   ],
   "source": [
    "plt.figure(figsize=(20,10))\n",
    "plt.subplot(4, 1, 1)\n",
    "df.start_station_id.value_counts().plot(kind='bar', xticks=[], xlabel='start station id', ylabel='count');\n",
    "plt.subplot(4, 1, 2)\n",
    "df.start_station_name.value_counts().plot(kind='bar', xticks=[], xlabel='start station name', ylabel='count');\n",
    "plt.subplot(4, 1, 3)\n",
    "df.end_station_id.value_counts().plot(kind='bar', xticks=[], xlabel='end station id', ylabel='count');\n",
    "plt.subplot(4, 1, 4)\n",
    "df.end_station_name.value_counts().plot(kind='bar', xticks=[], xlabel='end station name', ylabel='count');\n",
    "plt.tight_layout();"
   ]
  },
  {
   "cell_type": "markdown",
   "metadata": {},
   "source": [
    "As can be seen above, the distribution is smoothly decreasing. This shows that some stations are more popular than the others. There is also no big gaps in the distributions, showing there is no outlier."
   ]
  },
  {
   "cell_type": "markdown",
   "metadata": {},
   "source": [
    "### Station Latitude and Longitude\n",
    "\n",
    "Value counts plot of latitude and longitude of start and end station."
   ]
  },
  {
   "cell_type": "code",
   "execution_count": 100,
   "metadata": {},
   "outputs": [
    {
     "data": {
      "image/png": "[encoded data removed]",
      "text/plain": [
       "<Figure size 1440x720 with 4 Axes>"
      ]
     },
     "metadata": {
      "needs_background": "light"
     },
     "output_type": "display_data"
    }
   ],
   "source": [
    "plt.figure(figsize=(20,10))\n",
    "plt.subplot(4, 1, 1)\n",
    "df.start_station_latitude.value_counts().plot(kind='bar', xticks=[], xlabel='start station latitude', ylabel='count');\n",
    "plt.subplot(4, 1, 2)\n",
    "df.start_station_longitude.value_counts().plot(kind='bar', xticks=[], xlabel='start station longitude', ylabel='count');\n",
    "plt.subplot(4, 1, 3)\n",
    "df.end_station_latitude.value_counts().plot(kind='bar', xticks=[], xlabel='end station latitude', ylabel='count');\n",
    "plt.subplot(4, 1, 4)\n",
    "df.end_station_longitude.value_counts().plot(kind='bar', xticks=[], xlabel='end station longitude', ylabel='count');\n",
    "plt.tight_layout();"
   ]
  },
  {
   "cell_type": "markdown",
   "metadata": {},
   "source": [
    "Histogram plot is shown below."
   ]
  },
  {
   "cell_type": "code",
   "execution_count": 259,
   "metadata": {},
   "outputs": [
    {
     "data": {
      "image/png": "[encoded data removed]",
      "text/plain": [
       "<Figure size 1440x720 with 4 Axes>"
      ]
     },
     "metadata": {
      "needs_background": "light"
     },
     "output_type": "display_data"
    }
   ],
   "source": [
    "plt.figure(figsize=(20,10))\n",
    "plt.subplot(4, 1, 1)\n",
    "sb.histplot(df.start_station_latitude)\n",
    "plt.subplot(4, 1, 2)\n",
    "sb.histplot(df.end_station_latitude)\n",
    "plt.subplot(4, 1, 3)\n",
    "sb.histplot(df.start_station_longitude)\n",
    "plt.subplot(4, 1, 4)\n",
    "sb.histplot(df.end_station_longitude)\n",
    "plt.tight_layout();"
   ]
  },
  {
   "cell_type": "markdown",
   "metadata": {},
   "source": [
    "There is a weird spike for the latitude of both start and end station. Let's zoom in on the spike to be around 37.77 to 37.78."
   ]
  },
  {
   "cell_type": "code",
   "execution_count": 122,
   "metadata": {},
   "outputs": [
    {
     "data": {
      "image/png": "[encoded data removed]",
      "text/plain": [
       "<Figure size 1440x360 with 1 Axes>"
      ]
     },
     "metadata": {
      "needs_background": "light"
     },
     "output_type": "display_data"
    }
   ],
   "source": [
    "plt.figure(figsize=(20,5))\n",
    "sb.histplot(df.start_station_latitude);\n",
    "plt.xticks(ticks=np.arange(37.77, 37.79, 0.001));\n",
    "plt.xlim((37.77, 37.78));\n",
    "plt.ticklabel_format(useOffset=False);"
   ]
  },
  {
   "cell_type": "code",
   "execution_count": 123,
   "metadata": {},
   "outputs": [
    {
     "data": {
      "image/png": "[encoded data removed]",
      "text/plain": [
       "<Figure size 1440x360 with 1 Axes>"
      ]
     },
     "metadata": {
      "needs_background": "light"
     },
     "output_type": "display_data"
    }
   ],
   "source": [
    "plt.figure(figsize=(20,5))\n",
    "sb.histplot(df.end_station_latitude);\n",
    "plt.xticks(ticks=np.arange(37.77, 37.79, 0.001));\n",
    "plt.xlim((37.77, 37.78));\n",
    "plt.ticklabel_format(useOffset=False);"
   ]
  },
  {
   "cell_type": "markdown",
   "metadata": {},
   "source": [
    "From the above plot, we can see that the spike occurs between latitude of 37.776 and 37.777 for both start and end station. Now let's plot the histogram focusing only on this range."
   ]
  },
  {
   "cell_type": "code",
   "execution_count": 174,
   "metadata": {},
   "outputs": [
    {
     "data": {
      "image/png": "[encoded data removed]",
      "text/plain": [
       "<Figure size 1440x360 with 1 Axes>"
      ]
     },
     "metadata": {
      "needs_background": "light"
     },
     "output_type": "display_data"
    }
   ],
   "source": [
    "idx = (df.start_station_latitude >= 37.7757) & (df.start_station_latitude <= 37.7773)\n",
    "plt.figure(figsize=(20,5))\n",
    "sb.histplot(df.start_station_latitude[idx]);\n",
    "plt.ticklabel_format(useOffset=False);"
   ]
  },
  {
   "cell_type": "markdown",
   "metadata": {},
   "source": [
    "Below we'll print the rows that corresponds to start station latitude between 37.7766 and 37.7762 (these values are obtained after zooming in further on the histogram above)."
   ]
  },
  {
   "cell_type": "code",
   "execution_count": 136,
   "metadata": {},
   "outputs": [
    {
     "data": {
      "text/html": [
       "<div>\n",
       "<style scoped>\n",
       "    .dataframe tbody tr th:only-of-type {\n",
       "        vertical-align: middle;\n",
       "    }\n",
       "\n",
       "    .dataframe tbody tr th {\n",
       "        vertical-align: top;\n",
       "    }\n",
       "\n",
       "    .dataframe thead th {\n",
       "        text-align: right;\n",
       "    }\n",
       "</style>\n",
       "<table border=\"1\" class=\"dataframe\">\n",
       "  <thead>\n",
       "    <tr style=\"text-align: right;\">\n",
       "      <th></th>\n",
       "      <th>duration</th>\n",
       "      <th>start_time</th>\n",
       "      <th>end_time</th>\n",
       "      <th>start_station_id</th>\n",
       "      <th>start_station_name</th>\n",
       "      <th>start_station_latitude</th>\n",
       "      <th>start_station_longitude</th>\n",
       "      <th>end_station_id</th>\n",
       "      <th>end_station_name</th>\n",
       "      <th>end_station_latitude</th>\n",
       "      <th>end_station_longitude</th>\n",
       "      <th>bike_id</th>\n",
       "      <th>user_type</th>\n",
       "      <th>member_birth_year</th>\n",
       "      <th>member_gender</th>\n",
       "      <th>bike_share_for_all_trip</th>\n",
       "    </tr>\n",
       "  </thead>\n",
       "  <tbody>\n",
       "    <tr>\n",
       "      <th>38</th>\n",
       "      <td>0 days 00:17:46</td>\n",
       "      <td>2019-02-28 23:31:16.139</td>\n",
       "      <td>2019-02-28 23:49:02.792</td>\n",
       "      <td>58</td>\n",
       "      <td>Market St at 10th St</td>\n",
       "      <td>37.776619</td>\n",
       "      <td>-122.417385</td>\n",
       "      <td>145</td>\n",
       "      <td>29th St at Church St</td>\n",
       "      <td>37.743684</td>\n",
       "      <td>-122.426806</td>\n",
       "      <td>5938</td>\n",
       "      <td>Subscriber</td>\n",
       "      <td>1992</td>\n",
       "      <td>Female</td>\n",
       "      <td>False</td>\n",
       "    </tr>\n",
       "    <tr>\n",
       "      <th>54</th>\n",
       "      <td>0 days 00:06:41</td>\n",
       "      <td>2019-02-28 23:30:52.471</td>\n",
       "      <td>2019-02-28 23:37:33.955</td>\n",
       "      <td>58</td>\n",
       "      <td>Market St at 10th St</td>\n",
       "      <td>37.776619</td>\n",
       "      <td>-122.417385</td>\n",
       "      <td>62</td>\n",
       "      <td>Victoria Manalo Draves Park</td>\n",
       "      <td>37.777791</td>\n",
       "      <td>-122.406432</td>\n",
       "      <td>5407</td>\n",
       "      <td>Subscriber</td>\n",
       "      <td>1990</td>\n",
       "      <td>Female</td>\n",
       "      <td>False</td>\n",
       "    </tr>\n",
       "    <tr>\n",
       "      <th>110</th>\n",
       "      <td>0 days 00:06:11</td>\n",
       "      <td>2019-02-28 23:01:15.077</td>\n",
       "      <td>2019-02-28 23:07:26.459</td>\n",
       "      <td>58</td>\n",
       "      <td>Market St at 10th St</td>\n",
       "      <td>37.776619</td>\n",
       "      <td>-122.417385</td>\n",
       "      <td>98</td>\n",
       "      <td>Valencia St at 16th St</td>\n",
       "      <td>37.765052</td>\n",
       "      <td>-122.421866</td>\n",
       "      <td>6435</td>\n",
       "      <td>Subscriber</td>\n",
       "      <td>1994</td>\n",
       "      <td>Male</td>\n",
       "      <td>False</td>\n",
       "    </tr>\n",
       "    <tr>\n",
       "      <th>114</th>\n",
       "      <td>0 days 00:06:16</td>\n",
       "      <td>2019-02-28 23:00:05.223</td>\n",
       "      <td>2019-02-28 23:06:21.515</td>\n",
       "      <td>58</td>\n",
       "      <td>Market St at 10th St</td>\n",
       "      <td>37.776619</td>\n",
       "      <td>-122.417385</td>\n",
       "      <td>21</td>\n",
       "      <td>Montgomery St BART Station (Market St at 2nd St)</td>\n",
       "      <td>37.789625</td>\n",
       "      <td>-122.400811</td>\n",
       "      <td>5731</td>\n",
       "      <td>Subscriber</td>\n",
       "      <td>1982</td>\n",
       "      <td>Male</td>\n",
       "      <td>False</td>\n",
       "    </tr>\n",
       "    <tr>\n",
       "      <th>190</th>\n",
       "      <td>0 days 00:08:35</td>\n",
       "      <td>2019-02-28 22:28:11.347</td>\n",
       "      <td>2019-02-28 22:36:46.389</td>\n",
       "      <td>58</td>\n",
       "      <td>Market St at 10th St</td>\n",
       "      <td>37.776619</td>\n",
       "      <td>-122.417385</td>\n",
       "      <td>321</td>\n",
       "      <td>5th St at Folsom</td>\n",
       "      <td>37.780146</td>\n",
       "      <td>-122.403071</td>\n",
       "      <td>5234</td>\n",
       "      <td>Subscriber</td>\n",
       "      <td>1981</td>\n",
       "      <td>Other</td>\n",
       "      <td>False</td>\n",
       "    </tr>\n",
       "    <tr>\n",
       "      <th>...</th>\n",
       "      <td>...</td>\n",
       "      <td>...</td>\n",
       "      <td>...</td>\n",
       "      <td>...</td>\n",
       "      <td>...</td>\n",
       "      <td>...</td>\n",
       "      <td>...</td>\n",
       "      <td>...</td>\n",
       "      <td>...</td>\n",
       "      <td>...</td>\n",
       "      <td>...</td>\n",
       "      <td>...</td>\n",
       "      <td>...</td>\n",
       "      <td>...</td>\n",
       "      <td>...</td>\n",
       "      <td>...</td>\n",
       "    </tr>\n",
       "    <tr>\n",
       "      <th>183362</th>\n",
       "      <td>0 days 00:14:59</td>\n",
       "      <td>2019-02-01 01:08:39.015</td>\n",
       "      <td>2019-02-01 01:23:38.798</td>\n",
       "      <td>58</td>\n",
       "      <td>Market St at 10th St</td>\n",
       "      <td>37.776619</td>\n",
       "      <td>-122.417385</td>\n",
       "      <td>133</td>\n",
       "      <td>Valencia St at 22nd St</td>\n",
       "      <td>37.755213</td>\n",
       "      <td>-122.420975</td>\n",
       "      <td>2033</td>\n",
       "      <td>Subscriber</td>\n",
       "      <td>1999</td>\n",
       "      <td>Male</td>\n",
       "      <td>False</td>\n",
       "    </tr>\n",
       "    <tr>\n",
       "      <th>183364</th>\n",
       "      <td>0 days 00:14:52</td>\n",
       "      <td>2019-02-01 01:08:43.731</td>\n",
       "      <td>2019-02-01 01:23:35.763</td>\n",
       "      <td>58</td>\n",
       "      <td>Market St at 10th St</td>\n",
       "      <td>37.776619</td>\n",
       "      <td>-122.417385</td>\n",
       "      <td>133</td>\n",
       "      <td>Valencia St at 22nd St</td>\n",
       "      <td>37.755213</td>\n",
       "      <td>-122.420975</td>\n",
       "      <td>3392</td>\n",
       "      <td>Subscriber</td>\n",
       "      <td>2000</td>\n",
       "      <td>Male</td>\n",
       "      <td>False</td>\n",
       "    </tr>\n",
       "    <tr>\n",
       "      <th>183365</th>\n",
       "      <td>0 days 00:15:32</td>\n",
       "      <td>2019-02-01 01:07:51.908</td>\n",
       "      <td>2019-02-01 01:23:24.370</td>\n",
       "      <td>58</td>\n",
       "      <td>Market St at 10th St</td>\n",
       "      <td>37.776619</td>\n",
       "      <td>-122.417385</td>\n",
       "      <td>133</td>\n",
       "      <td>Valencia St at 22nd St</td>\n",
       "      <td>37.755213</td>\n",
       "      <td>-122.420975</td>\n",
       "      <td>4962</td>\n",
       "      <td>Subscriber</td>\n",
       "      <td>2000</td>\n",
       "      <td>Female</td>\n",
       "      <td>False</td>\n",
       "    </tr>\n",
       "    <tr>\n",
       "      <th>183366</th>\n",
       "      <td>0 days 00:15:32</td>\n",
       "      <td>2019-02-01 01:07:49.971</td>\n",
       "      <td>2019-02-01 01:23:22.528</td>\n",
       "      <td>58</td>\n",
       "      <td>Market St at 10th St</td>\n",
       "      <td>37.776619</td>\n",
       "      <td>-122.417385</td>\n",
       "      <td>133</td>\n",
       "      <td>Valencia St at 22nd St</td>\n",
       "      <td>37.755213</td>\n",
       "      <td>-122.420975</td>\n",
       "      <td>5382</td>\n",
       "      <td>Subscriber</td>\n",
       "      <td>2000</td>\n",
       "      <td>Female</td>\n",
       "      <td>False</td>\n",
       "    </tr>\n",
       "    <tr>\n",
       "      <th>183371</th>\n",
       "      <td>0 days 00:03:16</td>\n",
       "      <td>2019-02-01 01:08:38.641</td>\n",
       "      <td>2019-02-01 01:11:54.949</td>\n",
       "      <td>58</td>\n",
       "      <td>Market St at 10th St</td>\n",
       "      <td>37.776619</td>\n",
       "      <td>-122.417385</td>\n",
       "      <td>75</td>\n",
       "      <td>Market St at Franklin St</td>\n",
       "      <td>37.773793</td>\n",
       "      <td>-122.421239</td>\n",
       "      <td>2395</td>\n",
       "      <td>Customer</td>\n",
       "      <td>&lt;NA&gt;</td>\n",
       "      <td>NaN</td>\n",
       "      <td>False</td>\n",
       "    </tr>\n",
       "  </tbody>\n",
       "</table>\n",
       "<p>3904 rows × 16 columns</p>\n",
       "</div>"
      ],
      "text/plain": [
       "              duration              start_time                end_time  \\\n",
       "38     0 days 00:17:46 2019-02-28 23:31:16.139 2019-02-28 23:49:02.792   \n",
       "54     0 days 00:06:41 2019-02-28 23:30:52.471 2019-02-28 23:37:33.955   \n",
       "110    0 days 00:06:11 2019-02-28 23:01:15.077 2019-02-28 23:07:26.459   \n",
       "114    0 days 00:06:16 2019-02-28 23:00:05.223 2019-02-28 23:06:21.515   \n",
       "190    0 days 00:08:35 2019-02-28 22:28:11.347 2019-02-28 22:36:46.389   \n",
       "...                ...                     ...                     ...   \n",
       "183362 0 days 00:14:59 2019-02-01 01:08:39.015 2019-02-01 01:23:38.798   \n",
       "183364 0 days 00:14:52 2019-02-01 01:08:43.731 2019-02-01 01:23:35.763   \n",
       "183365 0 days 00:15:32 2019-02-01 01:07:51.908 2019-02-01 01:23:24.370   \n",
       "183366 0 days 00:15:32 2019-02-01 01:07:49.971 2019-02-01 01:23:22.528   \n",
       "183371 0 days 00:03:16 2019-02-01 01:08:38.641 2019-02-01 01:11:54.949   \n",
       "\n",
       "       start_station_id    start_station_name  start_station_latitude  \\\n",
       "38                   58  Market St at 10th St               37.776619   \n",
       "54                   58  Market St at 10th St               37.776619   \n",
       "110                  58  Market St at 10th St               37.776619   \n",
       "114                  58  Market St at 10th St               37.776619   \n",
       "190                  58  Market St at 10th St               37.776619   \n",
       "...                 ...                   ...                     ...   \n",
       "183362               58  Market St at 10th St               37.776619   \n",
       "183364               58  Market St at 10th St               37.776619   \n",
       "183365               58  Market St at 10th St               37.776619   \n",
       "183366               58  Market St at 10th St               37.776619   \n",
       "183371               58  Market St at 10th St               37.776619   \n",
       "\n",
       "        start_station_longitude end_station_id  \\\n",
       "38                  -122.417385            145   \n",
       "54                  -122.417385             62   \n",
       "110                 -122.417385             98   \n",
       "114                 -122.417385             21   \n",
       "190                 -122.417385            321   \n",
       "...                         ...            ...   \n",
       "183362              -122.417385            133   \n",
       "183364              -122.417385            133   \n",
       "183365              -122.417385            133   \n",
       "183366              -122.417385            133   \n",
       "183371              -122.417385             75   \n",
       "\n",
       "                                        end_station_name  \\\n",
       "38                                  29th St at Church St   \n",
       "54                           Victoria Manalo Draves Park   \n",
       "110                               Valencia St at 16th St   \n",
       "114     Montgomery St BART Station (Market St at 2nd St)   \n",
       "190                                     5th St at Folsom   \n",
       "...                                                  ...   \n",
       "183362                            Valencia St at 22nd St   \n",
       "183364                            Valencia St at 22nd St   \n",
       "183365                            Valencia St at 22nd St   \n",
       "183366                            Valencia St at 22nd St   \n",
       "183371                          Market St at Franklin St   \n",
       "\n",
       "        end_station_latitude  end_station_longitude bike_id   user_type  \\\n",
       "38                 37.743684            -122.426806    5938  Subscriber   \n",
       "54                 37.777791            -122.406432    5407  Subscriber   \n",
       "110                37.765052            -122.421866    6435  Subscriber   \n",
       "114                37.789625            -122.400811    5731  Subscriber   \n",
       "190                37.780146            -122.403071    5234  Subscriber   \n",
       "...                      ...                    ...     ...         ...   \n",
       "183362             37.755213            -122.420975    2033  Subscriber   \n",
       "183364             37.755213            -122.420975    3392  Subscriber   \n",
       "183365             37.755213            -122.420975    4962  Subscriber   \n",
       "183366             37.755213            -122.420975    5382  Subscriber   \n",
       "183371             37.773793            -122.421239    2395    Customer   \n",
       "\n",
       "        member_birth_year member_gender  bike_share_for_all_trip  \n",
       "38                   1992        Female                    False  \n",
       "54                   1990        Female                    False  \n",
       "110                  1994          Male                    False  \n",
       "114                  1982          Male                    False  \n",
       "190                  1981         Other                    False  \n",
       "...                   ...           ...                      ...  \n",
       "183362               1999          Male                    False  \n",
       "183364               2000          Male                    False  \n",
       "183365               2000        Female                    False  \n",
       "183366               2000        Female                    False  \n",
       "183371               <NA>           NaN                    False  \n",
       "\n",
       "[3904 rows x 16 columns]"
      ]
     },
     "execution_count": 136,
     "metadata": {},
     "output_type": "execute_result"
    }
   ],
   "source": [
    "idx = (df.start_station_latitude >= 37.77660) & (df.start_station_latitude <= 37.77662)\n",
    "df[idx]"
   ]
  },
  {
   "cell_type": "markdown",
   "metadata": {},
   "source": [
    "The start station name is \"Market St at 10th St\". This is then expected since it's a market area, where high bike demand is very likely. The spike in the histogram is then not an issue.\n",
    "\n",
    "Below we'll reproduce the histogram of latitude and longitude (only for start station, because the end station distribution is roughly similar with start station)."
   ]
  },
  {
   "cell_type": "code",
   "execution_count": 176,
   "metadata": {},
   "outputs": [
    {
     "data": {
      "image/png": "[encoded data removed]",
      "text/plain": [
       "<Figure size 1440x720 with 2 Axes>"
      ]
     },
     "metadata": {
      "needs_background": "light"
     },
     "output_type": "display_data"
    }
   ],
   "source": [
    "plt.figure(figsize=(20,10))\n",
    "plt.subplot(2, 1, 1)\n",
    "sb.histplot(df.start_station_latitude)\n",
    "plt.subplot(2, 1, 2)\n",
    "sb.histplot(df.start_station_longitude);"
   ]
  },
  {
   "cell_type": "markdown",
   "metadata": {},
   "source": [
    "The distribution shows that there are several clusters of location where the bike demands are high. From this we can later on plot the regions of high demands."
   ]
  },
  {
   "cell_type": "markdown",
   "metadata": {},
   "source": [
    "### Start Time and End Time\n",
    "Below we'll plot the distribution of the date of the start and end time."
   ]
  },
  {
   "cell_type": "code",
   "execution_count": 162,
   "metadata": {},
   "outputs": [
    {
     "data": {
      "image/png": "[encoded data removed]",
      "text/plain": [
       "<Figure size 432x288 with 1 Axes>"
      ]
     },
     "metadata": {
      "needs_background": "light"
     },
     "output_type": "display_data"
    }
   ],
   "source": [
    "sb.histplot(df.start_time.dt.day)\n",
    "plt.xlabel('start time day');"
   ]
  },
  {
   "cell_type": "code",
   "execution_count": 163,
   "metadata": {},
   "outputs": [
    {
     "data": {
      "image/png": "[encoded data removed]",
      "text/plain": [
       "<Figure size 432x288 with 1 Axes>"
      ]
     },
     "metadata": {
      "needs_background": "light"
     },
     "output_type": "display_data"
    }
   ],
   "source": [
    "sb.histplot(df.end_time.dt.day)\n",
    "plt.xlabel('end time day');"
   ]
  },
  {
   "cell_type": "markdown",
   "metadata": {},
   "source": [
    "The plot above shows there is some sort of weekly trend of the bike demands.\n",
    "\n",
    "Below we'll plot the histogram of the day of week of the start and end times."
   ]
  },
  {
   "cell_type": "code",
   "execution_count": 293,
   "metadata": {},
   "outputs": [
    {
     "data": {
      "image/png": "[encoded data removed]",
      "text/plain": [
       "<Figure size 432x288 with 1 Axes>"
      ]
     },
     "metadata": {
      "needs_background": "light"
     },
     "output_type": "display_data"
    }
   ],
   "source": [
    "sb.histplot(df.start_time.dt.dayofweek)\n",
    "plt.xlabel('start time day');\n",
    "plt.xticks(np.arange(0, 7), ['Mon', 'Tue', 'Wed', 'Thu', 'Fri' ,'Sat', 'Sun']);"
   ]
  },
  {
   "cell_type": "code",
   "execution_count": 294,
   "metadata": {},
   "outputs": [
    {
     "data": {
      "image/png": "[encoded data removed]",
      "text/plain": [
       "<Figure size 432x288 with 1 Axes>"
      ]
     },
     "metadata": {
      "needs_background": "light"
     },
     "output_type": "display_data"
    }
   ],
   "source": [
    "sb.histplot(df.end_time.dt.dayofweek)\n",
    "plt.xlabel('end time day');\n",
    "plt.xticks(np.arange(0, 7), ['Mon', 'Tue', 'Wed', 'Thu', 'Fri' ,'Sat', 'Sun']);"
   ]
  },
  {
   "cell_type": "markdown",
   "metadata": {},
   "source": [
    "From the plot above, we can see that demands are lower on the weekends and higher on the weekdays.\n",
    "\n",
    "Below we'll plot the histogram of the hour of the start and end time."
   ]
  },
  {
   "cell_type": "code",
   "execution_count": 272,
   "metadata": {},
   "outputs": [
    {
     "data": {
      "image/png": "[encoded data removed]",
      "text/plain": [
       "<Figure size 1080x360 with 1 Axes>"
      ]
     },
     "metadata": {
      "needs_background": "light"
     },
     "output_type": "display_data"
    }
   ],
   "source": [
    "plt.figure(figsize=(15,5))\n",
    "sb.histplot(df.start_time.dt.hour)\n",
    "plt.xlabel('start time hour');\n",
    "ticks = np.arange(0, 24, 1)\n",
    "plt.xticks(ticks);"
   ]
  },
  {
   "cell_type": "code",
   "execution_count": 273,
   "metadata": {},
   "outputs": [
    {
     "data": {
      "image/png": "[encoded data removed]",
      "text/plain": [
       "<Figure size 1080x360 with 1 Axes>"
      ]
     },
     "metadata": {
      "needs_background": "light"
     },
     "output_type": "display_data"
    }
   ],
   "source": [
    "plt.figure(figsize=(15,5))\n",
    "sb.histplot(df.end_time.dt.hour)\n",
    "plt.xlabel('end time hour');\n",
    "ticks = np.arange(0, 24, 1)\n",
    "plt.xticks(ticks);"
   ]
  },
  {
   "cell_type": "markdown",
   "metadata": {},
   "source": [
    "The distributions above shows that there are 2 peak hours during the day, which is around 08:00 and 17:00. The similar distribution of the start and end hour shows that most of the bike usage are for short duration."
   ]
  },
  {
   "cell_type": "code",
   "execution_count": 277,
   "metadata": {},
   "outputs": [
    {
     "data": {
      "image/png": "[encoded data removed]",
      "text/plain": [
       "<Figure size 1296x360 with 1 Axes>"
      ]
     },
     "metadata": {
      "needs_background": "light"
     },
     "output_type": "display_data"
    }
   ],
   "source": [
    "plt.figure(figsize=(18,5))\n",
    "sb.histplot(df.start_time.dt.minute)\n",
    "plt.xlabel('start time minute');\n",
    "ticks = np.arange(0, 60, 1)\n",
    "plt.xticks(ticks);"
   ]
  },
  {
   "cell_type": "code",
   "execution_count": 278,
   "metadata": {},
   "outputs": [
    {
     "data": {
      "image/png": "[encoded data removed]",
      "text/plain": [
       "<Figure size 1296x360 with 1 Axes>"
      ]
     },
     "metadata": {
      "needs_background": "light"
     },
     "output_type": "display_data"
    }
   ],
   "source": [
    "plt.figure(figsize=(18,5))\n",
    "sb.histplot(df.end_time.dt.minute)\n",
    "plt.xlabel('end time minute');\n",
    "ticks = np.arange(0, 60, 1)\n",
    "plt.xticks(ticks);"
   ]
  },
  {
   "cell_type": "markdown",
   "metadata": {},
   "source": [
    "From the plots above, interestingly, there are some weird apparent spikes located at different locations for the minute of start and end time. For the start time, the peaks are located at minute of 1, 15, 30, 45, and 59 (taking the right edge of the bins). For the end time, the peaks are located at minute of 1, 20, 40, and 59 (taking the right edge of the bins).\n",
    "\n",
    "This raised the question, is it just that most people's booking often start and end at these exact minutes? Or is there some sort of periodic and \"on schedule\" activities that require such exact timing of the bike rent?"
   ]
  },
  {
   "cell_type": "code",
   "execution_count": 420,
   "metadata": {},
   "outputs": [],
   "source": [
    "minutes = df.start_time.dt.minute\n",
    "top_start_stations_general = np.array([])"
   ]
  },
  {
   "cell_type": "code",
   "execution_count": 421,
   "metadata": {},
   "outputs": [
    {
     "name": "stdout",
     "output_type": "stream",
     "text": [
      "Number of bikes involved in bookings at minute 0 and 1:\n",
      "2622 out of 4646 total bikes available,\n",
      "which accounts for 56.44% of total bikes.\n",
      "\n",
      "Top 15 start stations:\n",
      "['2nd St at Townsend St' 'Bancroft Way at College Ave'\n",
      " 'Bancroft Way at Telegraph Ave' 'Berry St at 4th St'\n",
      " 'Embarcadero BART Station (Beale St at Market St)'\n",
      " 'Howard St at Beale St' 'Market St at 10th St'\n",
      " 'Montgomery St BART Station (Market St at 2nd St)'\n",
      " 'Powell St BART Station (Market St at 4th St)'\n",
      " 'Powell St BART Station (Market St at 5th St)'\n",
      " 'San Francisco Caltrain (Townsend St at 4th St)'\n",
      " 'San Francisco Caltrain Station 2  (Townsend St at 4th St)'\n",
      " 'San Francisco Ferry Building (Harry Bridges Plaza)'\n",
      " 'Steuart St at Market St' 'The Embarcadero at Sansome St']\n"
     ]
    },
    {
     "data": {
      "image/png": "[encoded data removed]",
      "text/plain": [
       "<Figure size 432x288 with 1 Axes>"
      ]
     },
     "metadata": {},
     "output_type": "display_data"
    }
   ],
   "source": [
    "right_edge = 1\n",
    "idx = (minutes >= right_edge-1) & (minutes <= right_edge)\n",
    "sub_df = df[idx]\n",
    "\n",
    "count = sub_df.bike_id.nunique()\n",
    "total = df.bike_id.nunique()\n",
    "print(f'Number of bikes involved in bookings at minute {right_edge-1} and {right_edge}:'\n",
    "      + f'\\n{count} out of {total} total bikes available,'\n",
    "      + f'\\nwhich accounts for {count/total*100:.2f}% of total bikes.')\n",
    "\n",
    "print('\\nTop 15 start stations:')\n",
    "top_start_stations = np.sort(sub_df.start_station_name.value_counts().head(15).index.values)\n",
    "top_start_stations_general = np.union1d(top_start_stations, top_start_stations_general)\n",
    "print(top_start_stations)\n",
    "\n",
    "plt.pie([count, total-count], startangle=90, counterclock=False);\n",
    "plt.legend([f'Bike started between minute {right_edge-1} and {right_edge}']);"
   ]
  },
  {
   "cell_type": "code",
   "execution_count": 422,
   "metadata": {},
   "outputs": [
    {
     "name": "stdout",
     "output_type": "stream",
     "text": [
      "Number of bikes involved in bookings at minute 14 and 15:\n",
      "2655 out of 4646 total bikes available,\n",
      "which accounts for 57.15% of total bikes.\n",
      "\n",
      "Top 15 start stations:\n",
      "['3rd St at Townsend St' 'Bancroft Way at College Ave'\n",
      " 'Bancroft Way at Telegraph Ave' 'Beale St at Harrison St'\n",
      " 'Berry St at 4th St' 'Howard St at Beale St' 'Market St at 10th St'\n",
      " 'Montgomery St BART Station (Market St at 2nd St)'\n",
      " 'Powell St BART Station (Market St at 4th St)'\n",
      " 'Powell St BART Station (Market St at 5th St)'\n",
      " 'San Francisco Caltrain (Townsend St at 4th St)'\n",
      " 'San Francisco Caltrain Station 2  (Townsend St at 4th St)'\n",
      " 'San Francisco Ferry Building (Harry Bridges Plaza)'\n",
      " 'Steuart St at Market St' 'The Embarcadero at Sansome St']\n"
     ]
    },
    {
     "data": {
      "image/png": "[encoded data removed]",
      "text/plain": [
       "<Figure size 432x288 with 1 Axes>"
      ]
     },
     "metadata": {},
     "output_type": "display_data"
    }
   ],
   "source": [
    "right_edge = 15\n",
    "idx = (minutes >= right_edge-1) & (minutes <= right_edge)\n",
    "sub_df = df[idx]\n",
    "\n",
    "count = sub_df.bike_id.nunique()\n",
    "total = df.bike_id.nunique()\n",
    "print(f'Number of bikes involved in bookings at minute {right_edge-1} and {right_edge}:'\n",
    "      + f'\\n{count} out of {total} total bikes available,'\n",
    "      + f'\\nwhich accounts for {count/total*100:.2f}% of total bikes.')\n",
    "\n",
    "print('\\nTop 15 start stations:')\n",
    "top_start_stations = np.sort(sub_df.start_station_name.value_counts().head(15).index.values)\n",
    "top_start_stations_general = np.union1d(top_start_stations, top_start_stations_general)\n",
    "print(top_start_stations)\n",
    "\n",
    "plt.pie([count, total-count], startangle=90, counterclock=False);\n",
    "plt.legend([f'Bike started between minute {right_edge-1} and {right_edge}']);"
   ]
  },
  {
   "cell_type": "code",
   "execution_count": 423,
   "metadata": {},
   "outputs": [
    {
     "name": "stdout",
     "output_type": "stream",
     "text": [
      "Number of bikes involved in bookings at minute 29 and 30:\n",
      "2645 out of 4646 total bikes available,\n",
      "which accounts for 56.93% of total bikes.\n",
      "\n",
      "Top 15 start stations:\n",
      "['Bancroft Way at Telegraph Ave' 'Beale St at Harrison St'\n",
      " 'Berry St at 4th St' 'Howard St at 8th St' 'Howard St at Beale St'\n",
      " 'Market St at 10th St' 'Montgomery St BART Station (Market St at 2nd St)'\n",
      " 'Powell St BART Station (Market St at 4th St)'\n",
      " 'Powell St BART Station (Market St at 5th St)'\n",
      " 'San Francisco Caltrain (Townsend St at 4th St)'\n",
      " 'San Francisco Caltrain Station 2  (Townsend St at 4th St)'\n",
      " 'San Francisco Ferry Building (Harry Bridges Plaza)'\n",
      " 'Steuart St at Market St' 'The Embarcadero at Sansome St'\n",
      " 'Townsend St at 7th St']\n"
     ]
    },
    {
     "data": {
      "image/png": "[encoded data removed]",
      "text/plain": [
       "<Figure size 432x288 with 1 Axes>"
      ]
     },
     "metadata": {},
     "output_type": "display_data"
    }
   ],
   "source": [
    "right_edge = 30\n",
    "idx = (minutes >= right_edge-1) & (minutes <= right_edge)\n",
    "sub_df = df[idx]\n",
    "\n",
    "count = sub_df.bike_id.nunique()\n",
    "total = df.bike_id.nunique()\n",
    "print(f'Number of bikes involved in bookings at minute {right_edge-1} and {right_edge}:'\n",
    "      + f'\\n{count} out of {total} total bikes available,'\n",
    "      + f'\\nwhich accounts for {count/total*100:.2f}% of total bikes.')\n",
    "\n",
    "print('\\nTop 15 start stations:')\n",
    "top_start_stations = np.sort(sub_df.start_station_name.value_counts().head(15).index.values)\n",
    "top_start_stations_general = np.union1d(top_start_stations, top_start_stations_general)\n",
    "print(top_start_stations)\n",
    "\n",
    "plt.pie([count, total-count], startangle=90, counterclock=False);\n",
    "plt.legend([f'Bike started between minute {right_edge-1} and {right_edge}']);"
   ]
  },
  {
   "cell_type": "code",
   "execution_count": 424,
   "metadata": {},
   "outputs": [
    {
     "name": "stdout",
     "output_type": "stream",
     "text": [
      "Number of bikes involved in bookings at minute 44 and 45:\n",
      "2669 out of 4646 total bikes available,\n",
      "which accounts for 57.45% of total bikes.\n",
      "\n",
      "Top 15 start stations:\n",
      "['4th St at 16th St' '4th St at Mission Bay Blvd S' 'Berry St at 4th St'\n",
      " 'Howard St at 8th St' 'Howard St at Beale St' 'Market St at 10th St'\n",
      " 'Montgomery St BART Station (Market St at 2nd St)'\n",
      " 'Powell St BART Station (Market St at 4th St)'\n",
      " 'Powell St BART Station (Market St at 5th St)'\n",
      " 'San Francisco Caltrain (Townsend St at 4th St)'\n",
      " 'San Francisco Caltrain Station 2  (Townsend St at 4th St)'\n",
      " 'San Francisco Ferry Building (Harry Bridges Plaza)'\n",
      " 'Steuart St at Market St' 'The Embarcadero at Sansome St'\n",
      " 'Townsend St at 7th St']\n"
     ]
    },
    {
     "data": {
      "image/png": "[encoded data removed]",
      "text/plain": [
       "<Figure size 432x288 with 1 Axes>"
      ]
     },
     "metadata": {},
     "output_type": "display_data"
    }
   ],
   "source": [
    "right_edge = 45\n",
    "idx = (minutes >= right_edge-1) & (minutes <= right_edge)\n",
    "sub_df = df[idx]\n",
    "\n",
    "count = sub_df.bike_id.nunique()\n",
    "total = df.bike_id.nunique()\n",
    "print(f'Number of bikes involved in bookings at minute {right_edge-1} and {right_edge}:'\n",
    "      + f'\\n{count} out of {total} total bikes available,'\n",
    "      + f'\\nwhich accounts for {count/total*100:.2f}% of total bikes.')\n",
    "\n",
    "print('\\nTop 15 start stations:')\n",
    "top_start_stations = np.sort(sub_df.start_station_name.value_counts().head(15).index.values)\n",
    "top_start_stations_general = np.union1d(top_start_stations, top_start_stations_general)\n",
    "print(top_start_stations)\n",
    "\n",
    "plt.pie([count, total-count], startangle=90, counterclock=False);\n",
    "plt.legend([f'Bike started between minute {right_edge-1} and {right_edge}']);"
   ]
  },
  {
   "cell_type": "code",
   "execution_count": 427,
   "metadata": {},
   "outputs": [
    {
     "data": {
      "text/plain": [
       "array(['2nd St at Townsend St', '3rd St at Townsend St',\n",
       "       '4th St at 16th St', '4th St at Mission Bay Blvd S',\n",
       "       'Bancroft Way at College Ave', 'Bancroft Way at Telegraph Ave',\n",
       "       'Beale St at Harrison St', 'Berry St at 4th St',\n",
       "       'Embarcadero BART Station (Beale St at Market St)',\n",
       "       'Howard St at 8th St', 'Howard St at Beale St',\n",
       "       'Market St at 10th St',\n",
       "       'Montgomery St BART Station (Market St at 2nd St)',\n",
       "       'Powell St BART Station (Market St at 4th St)',\n",
       "       'Powell St BART Station (Market St at 5th St)',\n",
       "       'San Francisco Caltrain (Townsend St at 4th St)',\n",
       "       'San Francisco Caltrain Station 2  (Townsend St at 4th St)',\n",
       "       'San Francisco Ferry Building (Harry Bridges Plaza)',\n",
       "       'Steuart St at Market St', 'The Embarcadero at Sansome St',\n",
       "       'Townsend St at 7th St'], dtype=object)"
      ]
     },
     "execution_count": 427,
     "metadata": {},
     "output_type": "execute_result"
    }
   ],
   "source": [
    "top_start_stations_general"
   ]
  },
  {
   "cell_type": "markdown",
   "metadata": {},
   "source": [
    "> Make sure that, after every plot or related series of plots, that you\n",
    "include a Markdown cell with comments about what you observed, and what\n",
    "you plan on investigating next."
   ]
  },
  {
   "cell_type": "markdown",
   "metadata": {},
   "source": [
    "### Discuss the distribution(s) of your variable(s) of interest. Were there any unusual points? Did you need to perform any transformations?\n",
    "\n",
    "> Your answer here!\n",
    "\n",
    "For the duration variable, the distribution was highly right skewed. I had to do log scale transformation to the variable. It was then observed that the duration has log-normal distribution, with still a little amount of right skewedness.\n",
    "\n",
    "The member birth year was highly left skewed. First I converted the member birth year to be age variable by subtracting 2019 from each birth year. This age variable is then observed to be right skewed. Even after doing log scale transformation to the age variable, the distribution still have significant right skewedness.\n",
    "\n",
    "For the station latitude, there is a high spike at around latitude of 37.776, which basically is because that location is a market area, thus having high bike demand is expected.\n",
    "\n",
    "Distribution of the \"date\" of the start and end time shows that there is weekly trends on the bike demand. Aside from that, distribution of the \"hour\" of the start and end time shows that there is high peak hours at around 08:00 and 17:00.\n",
    "\n",
    "### Of the features you investigated, were there any unusual distributions? Did you perform any operations on the data to tidy, adjust, or change the form of the data? If so, why did you do this?\n",
    "\n",
    "> Your answer here!\n",
    "\n",
    "I converted the member birth year column to be age, as age is more helpful for analysis."
   ]
  },
  {
   "cell_type": "markdown",
   "metadata": {},
   "source": [
    "## Bivariate Exploration\n",
    "\n",
    "> In this section, investigate relationships between pairs of variables in your\n",
    "data. Make sure the variables that you cover here have been introduced in some\n",
    "fashion in the previous section (univariate exploration)."
   ]
  },
  {
   "cell_type": "code",
   "execution_count": null,
   "metadata": {},
   "outputs": [],
   "source": []
  },
  {
   "cell_type": "markdown",
   "metadata": {},
   "source": [
    "### Talk about some of the relationships you observed in this part of the investigation. How did the feature(s) of interest vary with other features in the dataset?\n",
    "\n",
    "> Your answer here!\n",
    "\n",
    "### Did you observe any interesting relationships between the other features (not the main feature(s) of interest)?\n",
    "\n",
    "> Your answer here!"
   ]
  },
  {
   "cell_type": "markdown",
   "metadata": {},
   "source": [
    "## Multivariate Exploration\n",
    "\n",
    "> Create plots of three or more variables to investigate your data even\n",
    "further. Make sure that your investigations are justified, and follow from\n",
    "your work in the previous sections."
   ]
  },
  {
   "cell_type": "code",
   "execution_count": null,
   "metadata": {},
   "outputs": [],
   "source": []
  },
  {
   "cell_type": "markdown",
   "metadata": {},
   "source": [
    "### Talk about some of the relationships you observed in this part of the investigation. Were there features that strengthened each other in terms of looking at your feature(s) of interest?\n",
    "\n",
    "> Your answer here!\n",
    "\n",
    "### Were there any interesting or surprising interactions between features?\n",
    "\n",
    "> Your answer here!"
   ]
  },
  {
   "cell_type": "markdown",
   "metadata": {},
   "source": [
    "> At the end of your report, make sure that you export the notebook as an\n",
    "html file from the `File > Download as... > HTML` menu. Make sure you keep\n",
    "track of where the exported file goes, so you can put it in the same folder\n",
    "as this notebook for project submission. Also, make sure you remove all of\n",
    "the quote-formatted guide notes like this one before you finish your report!"
   ]
  },
  {
   "cell_type": "code",
   "execution_count": null,
   "metadata": {},
   "outputs": [],
   "source": []
  }
 ],
 "metadata": {
  "kernelspec": {
   "display_name": "Python 3",
   "language": "python",
   "name": "python3"
  },
  "language_info": {
   "codemirror_mode": {
    "name": "ipython",
    "version": 3
   },
   "file_extension": ".py",
   "mimetype": "text/x-python",
   "name": "python",
   "nbconvert_exporter": "python",
   "pygments_lexer": "ipython3",
   "version": "3.7.9"
  }
 },
 "nbformat": 4,
 "nbformat_minor": 2
}
